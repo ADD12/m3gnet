{
 "cells": [
  {
   "cell_type": "markdown",
   "id": "556686fe",
   "metadata": {},
   "source": [
    "# Introduction\n",
    "\n",
    "This notebook shows an example of relaxing the LiFePO4 crystal.\n",
    "\n",
    "If you are running this notebook from Google Colab, uncomment the next code box to install m3gnet first.\n",
    "\n",
    "> Note: Because Google Colab's python version is sometimes rather old (v3.7 at the time of writing this notebook (Jul 2022), you will need to install m3gnet without dependencies and install the dependencies manually."
   ]
  },
  {
   "cell_type": "code",
   "execution_count": 2,
   "id": "5818a2b9",
   "metadata": {},
   "outputs": [],
   "source": [
    "# !pip install --no-deps m3gnet\n",
    "# !pip install pymatgen ase\n",
    "# !pip install lxml"
   ]
  },
  {
   "cell_type": "code",
   "execution_count": 3,
   "id": "5e008446",
   "metadata": {},
   "outputs": [
    {
     "name": "stderr",
     "output_type": "stream",
     "text": [
      "/Users/shyue/repos/pymatgen/pymatgen/analysis/phase_diagram.py:24: TqdmExperimentalWarning: Using `tqdm.autonotebook.tqdm` in notebook mode. Use `tqdm.tqdm` instead to force console mode (e.g. in jupyter console)\n",
      "  from tqdm.autonotebook import tqdm\n"
     ]
    }
   ],
   "source": [
    "import warnings\n",
    "\n",
    "import numpy as np\n",
    "from pymatgen.ext.matproj import MPRester\n",
    "from pymatgen.util.coord import pbc_diff\n",
    "\n",
    "from m3gnet.models import Relaxer\n",
    "\n",
    "for category in (UserWarning, DeprecationWarning):\n",
    "    warnings.filterwarnings(\"ignore\", category=category, module=\"tensorflow\")"
   ]
  },
  {
   "cell_type": "code",
   "execution_count": 4,
   "id": "dd27f94f",
   "metadata": {},
   "outputs": [
    {
     "data": {
      "text/plain": [
       "[]"
      ]
     },
     "execution_count": 4,
     "metadata": {},
     "output_type": "execute_result"
    }
   ],
   "source": [
    "import tensorflow as tf\n",
    "\n",
    "tf.config.experimental.list_physical_devices(\"GPU\")"
   ]
  },
  {
   "cell_type": "code",
   "execution_count": 5,
   "id": "0cc2e942",
   "metadata": {},
   "outputs": [],
   "source": [
    "mpr = MPRester()\n",
    "lfp = mpr.get_structure_by_material_id(\"mp-19017\")  # This is LiFePO4.\n",
    "\n",
    "lfp_strained = lfp.copy()  # We create a copy.\n",
    "# Create a random strain between -5% and 5% for each direction\n",
    "strains = np.random.uniform(low=-0.05, high=0.05, size=3)\n",
    "lfp_strained.apply_strain(strains)\n",
    "# In addition to the lattice strains, we also perturb the atoms by a distance of 0.1 angstrom.\n",
    "lfp_strained.perturb(0.1)"
   ]
  },
  {
   "cell_type": "code",
   "execution_count": 6,
   "id": "f8897c0e",
   "metadata": {},
   "outputs": [
    {
     "name": "stderr",
     "output_type": "stream",
     "text": [
      "2022-07-22 20:45:58.196042: W tensorflow/core/platform/profile_utils/cpu_utils.cc:128] Failed to get CPU frequency: 0 Hz\n"
     ]
    },
    {
     "name": "stdout",
     "output_type": "stream",
     "text": [
      "CPU times: user 22.6 s, sys: 45.3 s, total: 1min 7s\n",
      "Wall time: 12.4 s\n"
     ]
    }
   ],
   "source": [
    "relaxer = Relaxer()\n",
    "relax_results: dict\n",
    "%time relax_results = relaxer.relax(lfp_strained)\n",
    "relaxed = relax_results[\"final_structure\"]"
   ]
  },
  {
   "cell_type": "markdown",
   "id": "a9ede3fc",
   "metadata": {},
   "source": [
    "Note that the relaxation only took < 20s."
   ]
  },
  {
   "cell_type": "code",
   "execution_count": 7,
   "id": "2abb1e07",
   "metadata": {},
   "outputs": [
    {
     "name": "stdout",
     "output_type": "stream",
     "text": [
      "Original lattice parameters are [4.746, 10.444, 6.09]\n",
      "Strained lattice parameters are [4.703, 10.778, 6.1]\n",
      "Relaxed lattice parameters are [4.751, 10.442, 6.101]\n"
     ]
    }
   ],
   "source": [
    "print(f\"Original lattice parameters are {[round(x, 3) for x in lfp.lattice.abc]}\")\n",
    "print(f\"Strained lattice parameters are {[round(x, 3) for x in lfp_strained.lattice.abc]}\")\n",
    "print(f\"Relaxed lattice parameters are {[round(x, 3) for x in relaxed.lattice.abc]}\")"
   ]
  },
  {
   "cell_type": "code",
   "execution_count": 8,
   "id": "7b2ddfd6",
   "metadata": {},
   "outputs": [
    {
     "name": "stdout",
     "output_type": "stream",
     "text": [
      "Diff in fractional coords:\n",
      "[[-1.24366656e-02  1.85275129e-03  5.20024606e-03]\n",
      " [-1.25118393e-02 -3.72522910e-03 -2.13609677e-03]\n",
      " [-1.09451357e-02 -3.07392613e-03  5.74689067e-03]\n",
      " [-8.29439397e-03  4.24244464e-03 -1.29738354e-03]\n",
      " [ 3.59255647e-03 -6.87444043e-04 -8.19711225e-03]\n",
      " [ 4.03143376e-03  1.30471769e-03  5.32806936e-03]\n",
      " [-1.00678750e-02 -1.83023072e-05 -1.22652012e-03]\n",
      " [-4.28236250e-03  6.54308196e-04  4.88745868e-03]\n",
      " [-5.71330233e-03  1.58379616e-03 -7.89711428e-03]\n",
      " [ 1.79388063e-03 -3.40293111e-04  4.48431738e-03]\n",
      " [-6.55289857e-03  1.38864162e-03  1.49183186e-03]\n",
      " [ 8.71742468e-04 -3.18599684e-04  3.84851613e-03]\n",
      " [-4.27816399e-03  1.69104008e-04 -7.54295016e-03]\n",
      " [ 2.99860222e-03  1.57156588e-03  4.81418799e-03]\n",
      " [-7.03248109e-03  2.19691562e-03 -1.45966073e-03]\n",
      " [ 5.04558442e-04  1.08318900e-05  6.93702016e-03]\n",
      " [-1.04580632e-02  8.72155903e-04  4.25775575e-03]\n",
      " [ 1.53669916e-03  1.75831304e-04 -7.53960221e-03]\n",
      " [-6.47354864e-03  1.71527051e-03 -3.49466167e-05]\n",
      " [ 6.33003104e-04 -1.24488905e-03  2.33008246e-03]\n",
      " [-3.37632527e-03 -1.70213644e-04 -1.01512504e-02]\n",
      " [-1.01223247e-04 -1.12259430e-03  4.39416316e-03]\n",
      " [ 4.70450176e-03 -2.59679044e-03  5.93439749e-03]\n",
      " [-3.34059010e-03  3.96183867e-03 -9.01055009e-03]\n",
      " [-6.67010540e-03  1.22647293e-03  1.22561053e-03]\n",
      " [-3.45836457e-03 -3.11253635e-03  5.41400478e-03]\n",
      " [ 3.66923298e-03  4.34445331e-03  8.27794653e-03]\n",
      " [ 5.17875433e-05 -7.50640412e-05  5.63791420e-04]]\n"
     ]
    }
   ],
   "source": [
    "print(f\"Diff in fractional coords:\\n{pbc_diff(lfp.frac_coords, relaxed.frac_coords)}\")"
   ]
  },
  {
   "cell_type": "markdown",
   "id": "d1b355f7",
   "metadata": {},
   "source": [
    "Quite clealy, the relaxation using the M3GNet universal IAP has brought the lattice parameters much closer to the original DFT one and the coordinates are also within $10^{-3}$ of the original fractional coordinates."
   ]
  }
 ],
 "metadata": {
  "kernelspec": {
   "display_name": "Python 3 (ipykernel)",
   "language": "python",
   "name": "python3"
  },
  "language_info": {
   "codemirror_mode": {
    "name": "ipython",
    "version": 3
   },
   "file_extension": ".py",
   "mimetype": "text/x-python",
   "name": "python",
   "nbconvert_exporter": "python",
   "pygments_lexer": "ipython3",
   "version": "3.9.12"
  },
  "vscode": {
   "interpreter": {
    "hash": "95e5cb0dae99d6911ce19b14750141ca4ad955f9302739260772daefb06054c0"
   }
  }
 },
 "nbformat": 4,
 "nbformat_minor": 5
}
