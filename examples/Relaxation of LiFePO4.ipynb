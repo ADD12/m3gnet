{
 "cells": [
  {
   "cell_type": "markdown",
   "id": "556686fe",
   "metadata": {},
   "source": [
    "# Introduction\n",
    "\n",
    "This notebook shows an example of relaxing the LiFePO4 crystal."
   ]
  },
  {
   "cell_type": "code",
   "execution_count": 10,
   "id": "5e008446",
   "metadata": {},
   "outputs": [],
   "source": [
    "import warnings\n",
    "\n",
    "import numpy as np\n",
    "\n",
    "from pymatgen.ext.matproj import MPRester\n",
    "from pymatgen.util.coord import pbc_diff\n",
    "\n",
    "from m3gnet.models import Relaxer\n",
    "\n",
    "for category in (UserWarning, DeprecationWarning):\n",
    "    warnings.filterwarnings(\"ignore\", category=category, module=\"tensorflow\")"
   ]
  },
  {
   "cell_type": "code",
   "execution_count": 11,
   "id": "0cc2e942",
   "metadata": {},
   "outputs": [],
   "source": [
    "mpr = MPRester()\n",
    "lfp = mpr.get_structure_by_material_id(\"mp-19017\")  # This is LiFePO4.\n",
    "\n",
    "lfp_strained = lfp.copy()  # We create a copy.\n",
    "# Create a random strain between -5% and 5% for each direction\n",
    "strains = np.random.uniform(low=-0.05, high=0.05, size=3)\n",
    "lfp_strained.apply_strain(strains)\n",
    "# In addition to the lattice strains, we also perturb the atoms by a distance of 0.1 angstrom.\n",
    "lfp_strained.perturb(0.1)"
   ]
  },
  {
   "cell_type": "code",
   "execution_count": 12,
   "id": "f8897c0e",
   "metadata": {},
   "outputs": [
    {
     "name": "stdout",
     "output_type": "stream",
     "text": [
      "CPU times: user 11.3 s, sys: 2.17 s, total: 13.5 s\n",
      "Wall time: 7.72 s\n"
     ]
    }
   ],
   "source": [
    "relaxer = Relaxer()\n",
    "%time relax_results = relaxer.relax(lfp_strained)\n",
    "relaxed = relax_results[\"final_structure\"]"
   ]
  },
  {
   "cell_type": "markdown",
   "id": "a9ede3fc",
   "metadata": {},
   "source": [
    "Note that the relaxation only took < 20s."
   ]
  },
  {
   "cell_type": "code",
   "execution_count": 13,
   "id": "2abb1e07",
   "metadata": {},
   "outputs": [
    {
     "name": "stdout",
     "output_type": "stream",
     "text": [
      "Original lattice parameters are [4.746, 10.444, 6.09]\n",
      "Strained lattice parameters are [4.751, 10.912, 5.849]\n",
      "Relaxed lattice parameters are [4.75, 10.444, 6.106]\n"
     ]
    }
   ],
   "source": [
    "print(f\"Original lattice parameters are {[round(x, 3) for x in lfp.lattice.abc]}\")\n",
    "print(f\"Strained lattice parameters are {[round(x, 3) for x in lfp_strained.lattice.abc]}\")\n",
    "print(f\"Relaxed lattice parameters are {[round(x, 3) for x in relaxed.lattice.abc]}\")"
   ]
  },
  {
   "cell_type": "code",
   "execution_count": 5,
   "id": "7b2ddfd6",
   "metadata": {},
   "outputs": [
    {
     "name": "stdout",
     "output_type": "stream",
     "text": [
      "Diff in fractional coords:\n",
      "[[-0.00387997 -0.00279335 -0.00278419]\n",
      " [-0.0105322   0.00017964 -0.00350815]\n",
      " [ 0.00567224 -0.00023636 -0.00763473]\n",
      " [ 0.00193715  0.00778645 -0.0020107 ]\n",
      " [ 0.00225437  0.00170045  0.00172863]\n",
      " [ 0.00097444  0.00094502  0.00388633]\n",
      " [ 0.00345818  0.00368189  0.0024407 ]\n",
      " [-0.00038704  0.00417402  0.00208854]\n",
      " [ 0.00349925  0.00451124 -0.00329377]\n",
      " [ 0.00301799  0.00162616  0.00426465]\n",
      " [-0.00035351  0.0040381   0.00160278]\n",
      " [-0.00239293  0.00165153 -0.00127454]\n",
      " [ 0.00438634  0.00427503 -0.00071235]\n",
      " [ 0.00422623  0.002672    0.00449112]\n",
      " [-0.00079353  0.0043336  -0.00153869]\n",
      " [-0.0033543   0.00193773 -0.00280839]\n",
      " [-0.00151142  0.00393776 -0.00398973]\n",
      " [-0.00481124  0.00160034 -0.00323102]\n",
      " [ 0.00471888  0.0048146  -0.00417542]\n",
      " [ 0.0007874   0.00072707  0.00049835]\n",
      " [ 0.0041545   0.00410332 -0.00345285]\n",
      " [ 0.00412935  0.0025092   0.00449315]\n",
      " [ 0.00459609  0.0002639   0.00462091]\n",
      " [ 0.00272673  0.00434772 -0.00369026]\n",
      " [ 0.00018383  0.00028395  0.00456975]\n",
      " [-0.0012521   0.00108056  0.00068582]\n",
      " [-0.00093808  0.00435831  0.00110198]\n",
      " [ 0.0003874   0.00588312  0.0040137 ]]\n"
     ]
    }
   ],
   "source": [
    "print(f\"Diff in fractional coords:\\n{pbc_diff(lfp.frac_coords, relaxed.frac_coords)}\")"
   ]
  },
  {
   "cell_type": "markdown",
   "id": "d1b355f7",
   "metadata": {},
   "source": [
    "Quite clealy, the relaxation using the M3GNet universal IAP has brought the lattice parameters much closer to the original DFT one and the coordinates are also within $10^{-3}$ of the original fractional coordinates."
   ]
  }
 ],
 "metadata": {
  "kernelspec": {
   "display_name": "Python 3.10.5 ('py310')",
   "language": "python",
   "name": "python3"
  },
  "language_info": {
   "codemirror_mode": {
    "name": "ipython",
    "version": 3
   },
   "file_extension": ".py",
   "mimetype": "text/x-python",
   "name": "python",
   "nbconvert_exporter": "python",
   "pygments_lexer": "ipython3",
   "version": "3.10.5"
  },
  "vscode": {
   "interpreter": {
    "hash": "8022b3e932e045c760cb4633b91dd1cb8bc60d104ca9808334cbd1645adbe837"
   }
  }
 },
 "nbformat": 4,
 "nbformat_minor": 5
}
