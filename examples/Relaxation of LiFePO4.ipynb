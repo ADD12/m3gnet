{
 "cells": [
  {
   "cell_type": "markdown",
   "id": "556686fe",
   "metadata": {},
   "source": [
    "# Introduction\n",
    "\n",
    "This notebook shows an example of relaxing the LiFePO4 crystal."
   ]
  },
  {
   "cell_type": "code",
   "execution_count": null,
   "id": "5e008446",
   "metadata": {},
   "outputs": [
    {
     "ename": "",
     "evalue": "",
     "output_type": "error",
     "traceback": [
      "\u001b[1;31mRunning cells with 'Python 3.9.12 ('base')' requires ipykernel package.\n",
      "Run the following command to install 'ipykernel' into the Python environment. \n",
      "Command: 'conda install -n base ipykernel --update-deps --force-reinstall'"
     ]
    }
   ],
   "source": [
    "import warnings\n",
    "\n",
    "import numpy as np\n",
    "from pymatgen.ext.matproj import MPRester\n",
    "from pymatgen.util.coord import pbc_diff\n",
    "\n",
    "from m3gnet.models import Relaxer\n",
    "\n",
    "for category in (UserWarning, DeprecationWarning):\n",
    "    warnings.filterwarnings(\"ignore\", category=category, module=\"tensorflow\")"
   ]
  },
  {
   "cell_type": "code",
   "execution_count": null,
   "id": "dd27f94f",
   "metadata": {},
   "outputs": [
    {
     "ename": "",
     "evalue": "",
     "output_type": "error",
     "traceback": [
      "\u001b[1;31mRunning cells with 'Python 3.9.12 ('base')' requires ipykernel package.\n",
      "Run the following command to install 'ipykernel' into the Python environment. \n",
      "Command: 'conda install -n base ipykernel --update-deps --force-reinstall'"
     ]
    }
   ],
   "source": [
    "import tensorflow as tf\n",
    "\n",
    "tf.config.experimental.list_physical_devices(\"GPU\")"
   ]
  },
  {
   "cell_type": "code",
   "execution_count": 3,
   "id": "0cc2e942",
   "metadata": {},
   "outputs": [],
   "source": [
    "mpr = MPRester()\n",
    "lfp = mpr.get_structure_by_material_id(\"mp-19017\")  # This is LiFePO4.\n",
    "\n",
    "lfp_strained = lfp.copy()  # We create a copy.\n",
    "# Create a random strain between -5% and 5% for each direction\n",
    "strains = np.random.uniform(low=-0.05, high=0.05, size=3)\n",
    "lfp_strained.apply_strain(strains)\n",
    "# In addition to the lattice strains, we also perturb the atoms by a distance of 0.1 angstrom.\n",
    "lfp_strained.perturb(0.1)"
   ]
  },
  {
   "cell_type": "code",
   "execution_count": 4,
   "id": "f8897c0e",
   "metadata": {},
   "outputs": [
    {
     "name": "stdout",
     "output_type": "stream",
     "text": [
      "Metal device set to: Apple M1 Pro\n",
      "\n",
      "systemMemory: 16.00 GB\n",
      "maxCacheSize: 5.33 GB\n",
      "\n"
     ]
    },
    {
     "name": "stderr",
     "output_type": "stream",
     "text": [
      "2022-07-10 12:50:06.141194: I tensorflow/core/common_runtime/pluggable_device/pluggable_device_factory.cc:305] Could not identify NUMA node of platform GPU ID 0, defaulting to 0. Your kernel may not have been built with NUMA support.\n",
      "2022-07-10 12:50:06.141334: I tensorflow/core/common_runtime/pluggable_device/pluggable_device_factory.cc:271] Created TensorFlow device (/job:localhost/replica:0/task:0/device:GPU:0 with 0 MB memory) -> physical PluggableDevice (device: 0, name: METAL, pci bus id: <undefined>)\n",
      "2022-07-10 12:50:09.946045: W tensorflow/core/platform/profile_utils/cpu_utils.cc:128] Failed to get CPU frequency: 0 Hz\n",
      "2022-07-10 12:50:09.957309: I tensorflow/core/grappler/optimizers/custom_graph_optimizer_registry.cc:113] Plugin optimizer for device_type GPU is enabled.\n"
     ]
    },
    {
     "ename": "NotFoundError",
     "evalue": "Graph execution error:\n\nDetected at node 'gradients/m3g_net/graph_network_layer/gated_atom_update/UnsortedSegmentSum_grad/and' defined at (most recent call last):\n    File \"/opt/homebrew/Caskroom/miniconda/base/envs/m3gnet/lib/python3.10/runpy.py\", line 196, in _run_module_as_main\n      return _run_code(code, main_globals, None,\n    File \"/opt/homebrew/Caskroom/miniconda/base/envs/m3gnet/lib/python3.10/runpy.py\", line 86, in _run_code\n      exec(code, run_globals)\n    File \"/opt/homebrew/Caskroom/miniconda/base/envs/m3gnet/lib/python3.10/site-packages/ipykernel_launcher.py\", line 17, in <module>\n      app.launch_new_instance()\n    File \"/opt/homebrew/Caskroom/miniconda/base/envs/m3gnet/lib/python3.10/site-packages/traitlets/config/application.py\", line 976, in launch_instance\n      app.start()\n    File \"/opt/homebrew/Caskroom/miniconda/base/envs/m3gnet/lib/python3.10/site-packages/ipykernel/kernelapp.py\", line 712, in start\n      self.io_loop.start()\n    File \"/opt/homebrew/Caskroom/miniconda/base/envs/m3gnet/lib/python3.10/site-packages/tornado/platform/asyncio.py\", line 215, in start\n      self.asyncio_loop.run_forever()\n    File \"/opt/homebrew/Caskroom/miniconda/base/envs/m3gnet/lib/python3.10/asyncio/base_events.py\", line 600, in run_forever\n      self._run_once()\n    File \"/opt/homebrew/Caskroom/miniconda/base/envs/m3gnet/lib/python3.10/asyncio/base_events.py\", line 1896, in _run_once\n      handle._run()\n    File \"/opt/homebrew/Caskroom/miniconda/base/envs/m3gnet/lib/python3.10/asyncio/events.py\", line 80, in _run\n      self._context.run(self._callback, *self._args)\n    File \"/opt/homebrew/Caskroom/miniconda/base/envs/m3gnet/lib/python3.10/site-packages/ipykernel/kernelbase.py\", line 510, in dispatch_queue\n      await self.process_one()\n    File \"/opt/homebrew/Caskroom/miniconda/base/envs/m3gnet/lib/python3.10/site-packages/ipykernel/kernelbase.py\", line 499, in process_one\n      await dispatch(*args)\n    File \"/opt/homebrew/Caskroom/miniconda/base/envs/m3gnet/lib/python3.10/site-packages/ipykernel/kernelbase.py\", line 406, in dispatch_shell\n      await result\n    File \"/opt/homebrew/Caskroom/miniconda/base/envs/m3gnet/lib/python3.10/site-packages/ipykernel/kernelbase.py\", line 730, in execute_request\n      reply_content = await reply_content\n    File \"/opt/homebrew/Caskroom/miniconda/base/envs/m3gnet/lib/python3.10/site-packages/ipykernel/ipkernel.py\", line 383, in do_execute\n      res = shell.run_cell(\n    File \"/opt/homebrew/Caskroom/miniconda/base/envs/m3gnet/lib/python3.10/site-packages/ipykernel/zmqshell.py\", line 528, in run_cell\n      return super().run_cell(*args, **kwargs)\n    File \"/opt/homebrew/Caskroom/miniconda/base/envs/m3gnet/lib/python3.10/site-packages/IPython/core/interactiveshell.py\", line 2881, in run_cell\n      result = self._run_cell(\n    File \"/opt/homebrew/Caskroom/miniconda/base/envs/m3gnet/lib/python3.10/site-packages/IPython/core/interactiveshell.py\", line 2936, in _run_cell\n      return runner(coro)\n    File \"/opt/homebrew/Caskroom/miniconda/base/envs/m3gnet/lib/python3.10/site-packages/IPython/core/async_helpers.py\", line 129, in _pseudo_sync_runner\n      coro.send(None)\n    File \"/opt/homebrew/Caskroom/miniconda/base/envs/m3gnet/lib/python3.10/site-packages/IPython/core/interactiveshell.py\", line 3135, in run_cell_async\n      has_raised = await self.run_ast_nodes(code_ast.body, cell_name,\n    File \"/opt/homebrew/Caskroom/miniconda/base/envs/m3gnet/lib/python3.10/site-packages/IPython/core/interactiveshell.py\", line 3338, in run_ast_nodes\n      if await self.run_code(code, result, async_=asy):\n    File \"/opt/homebrew/Caskroom/miniconda/base/envs/m3gnet/lib/python3.10/site-packages/IPython/core/interactiveshell.py\", line 3398, in run_code\n      exec(code_obj, self.user_global_ns, self.user_ns)\n    File \"/var/folders/5m/sb0wx83j0m36xk_zswkfnffh0000gn/T/ipykernel_9555/3879703908.py\", line 2, in <cell line: 2>\n      get_ipython().run_line_magic('time', 'relax_results = relaxer.relax(lfp_strained)')\n    File \"/opt/homebrew/Caskroom/miniconda/base/envs/m3gnet/lib/python3.10/site-packages/IPython/core/interactiveshell.py\", line 2305, in run_line_magic\n      result = fn(*args, **kwargs)\n    File \"/opt/homebrew/Caskroom/miniconda/base/envs/m3gnet/lib/python3.10/site-packages/IPython/core/magics/execution.py\", line 1316, in time\n      exec(code, glob, local_ns)\n    File \"<timed exec>\", line 1, in <module>\n    File \"/opt/homebrew/Caskroom/miniconda/base/envs/m3gnet/lib/python3.10/site-packages/m3gnet/models/_dynamics.py\", line 167, in relax\n      optimizer = self.opt_class(atoms, **kwargs)\n    File \"/opt/homebrew/Caskroom/miniconda/base/envs/m3gnet/lib/python3.10/site-packages/ase/optimize/fire.py\", line 54, in __init__\n      Optimizer.__init__(self, atoms, restart, logfile, trajectory,\n    File \"/opt/homebrew/Caskroom/miniconda/base/envs/m3gnet/lib/python3.10/site-packages/ase/optimize/optimize.py\", line 234, in __init__\n      self.set_force_consistent()\n    File \"/opt/homebrew/Caskroom/miniconda/base/envs/m3gnet/lib/python3.10/site-packages/ase/optimize/optimize.py\", line 325, in set_force_consistent\n      self.atoms.get_potential_energy(force_consistent=True)\n    File \"/opt/homebrew/Caskroom/miniconda/base/envs/m3gnet/lib/python3.10/site-packages/ase/constraints.py\", line 2420, in get_potential_energy\n      atoms_energy = self.atoms.get_potential_energy(\n    File \"/opt/homebrew/Caskroom/miniconda/base/envs/m3gnet/lib/python3.10/site-packages/ase/atoms.py\", line 728, in get_potential_energy\n      energy = self._calc.get_potential_energy(\n    File \"/opt/homebrew/Caskroom/miniconda/base/envs/m3gnet/lib/python3.10/site-packages/ase/calculators/calculator.py\", line 709, in get_potential_energy\n      energy = self.get_property('energy', atoms)\n    File \"/opt/homebrew/Caskroom/miniconda/base/envs/m3gnet/lib/python3.10/site-packages/ase/calculators/calculator.py\", line 737, in get_property\n      self.calculate(atoms, [name], system_changes)\n    File \"/opt/homebrew/Caskroom/miniconda/base/envs/m3gnet/lib/python3.10/site-packages/m3gnet/models/_dynamics.py\", line 86, in calculate\n      results = self.potential.get_efs_tensor(graph_list, include_stresses=self.compute_stress)\n    File \"/opt/homebrew/Caskroom/miniconda/base/envs/m3gnet/lib/python3.10/site-packages/m3gnet/models/_base.py\", line 188, in get_efs_tensor\n      derivatives = tape.gradient(energies, derivatives)\nNode: 'gradients/m3g_net/graph_network_layer/gated_atom_update/UnsortedSegmentSum_grad/and'\nNo registered 'BroadcastTo' OpKernel for 'GPU' devices compatible with node {{node gradients/m3g_net/graph_network_layer/gated_atom_update/UnsortedSegmentSum_grad/and}}\n\t (OpKernel was found, but attributes didn't match) Requested Attributes: T=DT_BOOL, Tidx=DT_INT32, _XlaHasReferenceVars=false, _device=\"/job:localhost/replica:0/task:0/device:GPU:0\"\n\t.  Registered:  device='XLA_CPU_JIT'; Tidx in [DT_INT32, DT_INT64]; T in [DT_FLOAT, DT_DOUBLE, DT_INT32, DT_UINT8, DT_INT16, 16005131165644881776, DT_UINT16, DT_COMPLEX128, DT_HALF, DT_UINT32, DT_UINT64]\n  device='GPU'; T in [DT_FLOAT]\n  device='DEFAULT'; T in [DT_INT32]\n  device='CPU'; T in [DT_UINT64]\n  device='CPU'; T in [DT_INT64]\n  device='CPU'; T in [DT_UINT32]\n  device='CPU'; T in [DT_UINT16]\n  device='CPU'; T in [DT_INT16]\n  device='CPU'; T in [DT_UINT8]\n  device='CPU'; T in [DT_INT8]\n  device='CPU'; T in [DT_INT32]\n  device='CPU'; T in [DT_HALF]\n  device='CPU'; T in [DT_BFLOAT16]\n  device='CPU'; T in [DT_FLOAT]\n  device='CPU'; T in [DT_DOUBLE]\n  device='CPU'; T in [DT_COMPLEX64]\n  device='CPU'; T in [DT_COMPLEX128]\n  device='CPU'; T in [DT_BOOL]\n  device='CPU'; T in [DT_STRING]\n  device='CPU'; T in [DT_RESOURCE]\n  device='CPU'; T in [DT_VARIANT]\n\n\t [[PartitionedCall/gradients/m3g_net/graph_network_layer/gated_atom_update/UnsortedSegmentSum_grad/and]] [Op:__inference_get_efs_tensor_7426]",
     "output_type": "error",
     "traceback": [
      "\u001b[0;31m---------------------------------------------------------------------------\u001b[0m",
      "\u001b[0;31mNotFoundError\u001b[0m                             Traceback (most recent call last)",
      "File \u001b[0;32m<timed exec>:1\u001b[0m, in \u001b[0;36m<module>\u001b[0;34m\u001b[0m\n",
      "File \u001b[0;32m/opt/homebrew/Caskroom/miniconda/base/envs/m3gnet/lib/python3.10/site-packages/m3gnet/models/_dynamics.py:167\u001b[0m, in \u001b[0;36mRelaxer.relax\u001b[0;34m(self, atoms, fmax, steps, traj_file, interval, verbose, **kwargs)\u001b[0m\n\u001b[1;32m    165\u001b[0m \u001b[39mif\u001b[39;00m \u001b[39mself\u001b[39m\u001b[39m.\u001b[39mrelax_cell:\n\u001b[1;32m    166\u001b[0m     atoms \u001b[39m=\u001b[39m ExpCellFilter(atoms)\n\u001b[0;32m--> 167\u001b[0m optimizer \u001b[39m=\u001b[39m \u001b[39mself\u001b[39;49m\u001b[39m.\u001b[39;49mopt_class(atoms, \u001b[39m*\u001b[39;49m\u001b[39m*\u001b[39;49mkwargs)\n\u001b[1;32m    168\u001b[0m optimizer\u001b[39m.\u001b[39mattach(obs, interval\u001b[39m=\u001b[39minterval)\n\u001b[1;32m    169\u001b[0m optimizer\u001b[39m.\u001b[39mrun(fmax\u001b[39m=\u001b[39mfmax, steps\u001b[39m=\u001b[39msteps)\n",
      "File \u001b[0;32m/opt/homebrew/Caskroom/miniconda/base/envs/m3gnet/lib/python3.10/site-packages/ase/optimize/fire.py:54\u001b[0m, in \u001b[0;36mFIRE.__init__\u001b[0;34m(self, atoms, restart, logfile, trajectory, dt, maxstep, maxmove, dtmax, Nmin, finc, fdec, astart, fa, a, master, downhill_check, position_reset_callback, force_consistent)\u001b[0m\n\u001b[1;32m      8\u001b[0m \u001b[39mdef\u001b[39;00m \u001b[39m__init__\u001b[39m(\u001b[39mself\u001b[39m, atoms, restart\u001b[39m=\u001b[39m\u001b[39mNone\u001b[39;00m, logfile\u001b[39m=\u001b[39m\u001b[39m'\u001b[39m\u001b[39m-\u001b[39m\u001b[39m'\u001b[39m, trajectory\u001b[39m=\u001b[39m\u001b[39mNone\u001b[39;00m,\n\u001b[1;32m      9\u001b[0m              dt\u001b[39m=\u001b[39m\u001b[39m0.1\u001b[39m, maxstep\u001b[39m=\u001b[39m\u001b[39mNone\u001b[39;00m, maxmove\u001b[39m=\u001b[39m\u001b[39mNone\u001b[39;00m, dtmax\u001b[39m=\u001b[39m\u001b[39m1.0\u001b[39m, Nmin\u001b[39m=\u001b[39m\u001b[39m5\u001b[39m,\n\u001b[1;32m     10\u001b[0m              finc\u001b[39m=\u001b[39m\u001b[39m1.1\u001b[39m, fdec\u001b[39m=\u001b[39m\u001b[39m0.5\u001b[39m,\n\u001b[1;32m     11\u001b[0m              astart\u001b[39m=\u001b[39m\u001b[39m0.1\u001b[39m, fa\u001b[39m=\u001b[39m\u001b[39m0.99\u001b[39m, a\u001b[39m=\u001b[39m\u001b[39m0.1\u001b[39m, master\u001b[39m=\u001b[39m\u001b[39mNone\u001b[39;00m, downhill_check\u001b[39m=\u001b[39m\u001b[39mFalse\u001b[39;00m,\n\u001b[1;32m     12\u001b[0m              position_reset_callback\u001b[39m=\u001b[39m\u001b[39mNone\u001b[39;00m, force_consistent\u001b[39m=\u001b[39m\u001b[39mNone\u001b[39;00m):\n\u001b[1;32m     13\u001b[0m     \u001b[39m\"\"\"Parameters:\u001b[39;00m\n\u001b[1;32m     14\u001b[0m \n\u001b[1;32m     15\u001b[0m \u001b[39m    atoms: Atoms object\u001b[39;00m\n\u001b[0;32m   (...)\u001b[0m\n\u001b[1;32m     52\u001b[0m \u001b[39m        when downhill_check is True.\u001b[39;00m\n\u001b[1;32m     53\u001b[0m \u001b[39m    \"\"\"\u001b[39;00m\n\u001b[0;32m---> 54\u001b[0m     Optimizer\u001b[39m.\u001b[39;49m\u001b[39m__init__\u001b[39;49m(\u001b[39mself\u001b[39;49m, atoms, restart, logfile, trajectory,\n\u001b[1;32m     55\u001b[0m                        master, force_consistent\u001b[39m=\u001b[39;49mforce_consistent)\n\u001b[1;32m     57\u001b[0m     \u001b[39mself\u001b[39m\u001b[39m.\u001b[39mdt \u001b[39m=\u001b[39m dt\n\u001b[1;32m     59\u001b[0m     \u001b[39mself\u001b[39m\u001b[39m.\u001b[39mNsteps \u001b[39m=\u001b[39m \u001b[39m0\u001b[39m\n",
      "File \u001b[0;32m/opt/homebrew/Caskroom/miniconda/base/envs/m3gnet/lib/python3.10/site-packages/ase/optimize/optimize.py:234\u001b[0m, in \u001b[0;36mOptimizer.__init__\u001b[0;34m(self, atoms, restart, logfile, trajectory, master, append_trajectory, force_consistent)\u001b[0m\n\u001b[1;32m    232\u001b[0m \u001b[39mself\u001b[39m\u001b[39m.\u001b[39mforce_consistent \u001b[39m=\u001b[39m force_consistent\n\u001b[1;32m    233\u001b[0m \u001b[39mif\u001b[39;00m \u001b[39mself\u001b[39m\u001b[39m.\u001b[39mforce_consistent \u001b[39mis\u001b[39;00m \u001b[39mNone\u001b[39;00m:\n\u001b[0;32m--> 234\u001b[0m     \u001b[39mself\u001b[39;49m\u001b[39m.\u001b[39;49mset_force_consistent()\n\u001b[1;32m    236\u001b[0m \u001b[39mself\u001b[39m\u001b[39m.\u001b[39mrestart \u001b[39m=\u001b[39m restart\n\u001b[1;32m    238\u001b[0m \u001b[39m# initialize attribute\u001b[39;00m\n",
      "File \u001b[0;32m/opt/homebrew/Caskroom/miniconda/base/envs/m3gnet/lib/python3.10/site-packages/ase/optimize/optimize.py:325\u001b[0m, in \u001b[0;36mOptimizer.set_force_consistent\u001b[0;34m(self)\u001b[0m\n\u001b[1;32m    322\u001b[0m \u001b[39m\"\"\"Automatically sets force_consistent to True if force_consistent\u001b[39;00m\n\u001b[1;32m    323\u001b[0m \u001b[39menergies are supported by calculator; else False.\"\"\"\u001b[39;00m\n\u001b[1;32m    324\u001b[0m \u001b[39mtry\u001b[39;00m:\n\u001b[0;32m--> 325\u001b[0m     \u001b[39mself\u001b[39;49m\u001b[39m.\u001b[39;49matoms\u001b[39m.\u001b[39;49mget_potential_energy(force_consistent\u001b[39m=\u001b[39;49m\u001b[39mTrue\u001b[39;49;00m)\n\u001b[1;32m    326\u001b[0m \u001b[39mexcept\u001b[39;00m PropertyNotImplementedError:\n\u001b[1;32m    327\u001b[0m     \u001b[39mself\u001b[39m\u001b[39m.\u001b[39mforce_consistent \u001b[39m=\u001b[39m \u001b[39mFalse\u001b[39;00m\n",
      "File \u001b[0;32m/opt/homebrew/Caskroom/miniconda/base/envs/m3gnet/lib/python3.10/site-packages/ase/constraints.py:2420\u001b[0m, in \u001b[0;36mUnitCellFilter.get_potential_energy\u001b[0;34m(self, force_consistent)\u001b[0m\n\u001b[1;32m   2416\u001b[0m \u001b[39mdef\u001b[39;00m \u001b[39mget_potential_energy\u001b[39m(\u001b[39mself\u001b[39m, force_consistent\u001b[39m=\u001b[39m\u001b[39mTrue\u001b[39;00m):\n\u001b[1;32m   2417\u001b[0m     \u001b[39m\"\"\"\u001b[39;00m\n\u001b[1;32m   2418\u001b[0m \u001b[39m    returns potential energy including enthalpy PV term.\u001b[39;00m\n\u001b[1;32m   2419\u001b[0m \u001b[39m    \"\"\"\u001b[39;00m\n\u001b[0;32m-> 2420\u001b[0m     atoms_energy \u001b[39m=\u001b[39m \u001b[39mself\u001b[39;49m\u001b[39m.\u001b[39;49matoms\u001b[39m.\u001b[39;49mget_potential_energy(\n\u001b[1;32m   2421\u001b[0m         force_consistent\u001b[39m=\u001b[39;49mforce_consistent)\n\u001b[1;32m   2422\u001b[0m     \u001b[39mreturn\u001b[39;00m atoms_energy \u001b[39m+\u001b[39m \u001b[39mself\u001b[39m\u001b[39m.\u001b[39mscalar_pressure \u001b[39m*\u001b[39m \u001b[39mself\u001b[39m\u001b[39m.\u001b[39matoms\u001b[39m.\u001b[39mget_volume()\n",
      "File \u001b[0;32m/opt/homebrew/Caskroom/miniconda/base/envs/m3gnet/lib/python3.10/site-packages/ase/atoms.py:728\u001b[0m, in \u001b[0;36mAtoms.get_potential_energy\u001b[0;34m(self, force_consistent, apply_constraint)\u001b[0m\n\u001b[1;32m    726\u001b[0m     \u001b[39mraise\u001b[39;00m \u001b[39mRuntimeError\u001b[39;00m(\u001b[39m'\u001b[39m\u001b[39mAtoms object has no calculator.\u001b[39m\u001b[39m'\u001b[39m)\n\u001b[1;32m    727\u001b[0m \u001b[39mif\u001b[39;00m force_consistent:\n\u001b[0;32m--> 728\u001b[0m     energy \u001b[39m=\u001b[39m \u001b[39mself\u001b[39;49m\u001b[39m.\u001b[39;49m_calc\u001b[39m.\u001b[39;49mget_potential_energy(\n\u001b[1;32m    729\u001b[0m         \u001b[39mself\u001b[39;49m, force_consistent\u001b[39m=\u001b[39;49mforce_consistent)\n\u001b[1;32m    730\u001b[0m \u001b[39melse\u001b[39;00m:\n\u001b[1;32m    731\u001b[0m     energy \u001b[39m=\u001b[39m \u001b[39mself\u001b[39m\u001b[39m.\u001b[39m_calc\u001b[39m.\u001b[39mget_potential_energy(\u001b[39mself\u001b[39m)\n",
      "File \u001b[0;32m/opt/homebrew/Caskroom/miniconda/base/envs/m3gnet/lib/python3.10/site-packages/ase/calculators/calculator.py:709\u001b[0m, in \u001b[0;36mCalculator.get_potential_energy\u001b[0;34m(self, atoms, force_consistent)\u001b[0m\n\u001b[1;32m    708\u001b[0m \u001b[39mdef\u001b[39;00m \u001b[39mget_potential_energy\u001b[39m(\u001b[39mself\u001b[39m, atoms\u001b[39m=\u001b[39m\u001b[39mNone\u001b[39;00m, force_consistent\u001b[39m=\u001b[39m\u001b[39mFalse\u001b[39;00m):\n\u001b[0;32m--> 709\u001b[0m     energy \u001b[39m=\u001b[39m \u001b[39mself\u001b[39;49m\u001b[39m.\u001b[39;49mget_property(\u001b[39m'\u001b[39;49m\u001b[39menergy\u001b[39;49m\u001b[39m'\u001b[39;49m, atoms)\n\u001b[1;32m    710\u001b[0m     \u001b[39mif\u001b[39;00m force_consistent:\n\u001b[1;32m    711\u001b[0m         \u001b[39mif\u001b[39;00m \u001b[39m'\u001b[39m\u001b[39mfree_energy\u001b[39m\u001b[39m'\u001b[39m \u001b[39mnot\u001b[39;00m \u001b[39min\u001b[39;00m \u001b[39mself\u001b[39m\u001b[39m.\u001b[39mresults:\n",
      "File \u001b[0;32m/opt/homebrew/Caskroom/miniconda/base/envs/m3gnet/lib/python3.10/site-packages/ase/calculators/calculator.py:737\u001b[0m, in \u001b[0;36mCalculator.get_property\u001b[0;34m(self, name, atoms, allow_calculation)\u001b[0m\n\u001b[1;32m    735\u001b[0m     \u001b[39mif\u001b[39;00m \u001b[39mnot\u001b[39;00m allow_calculation:\n\u001b[1;32m    736\u001b[0m         \u001b[39mreturn\u001b[39;00m \u001b[39mNone\u001b[39;00m\n\u001b[0;32m--> 737\u001b[0m     \u001b[39mself\u001b[39;49m\u001b[39m.\u001b[39;49mcalculate(atoms, [name], system_changes)\n\u001b[1;32m    739\u001b[0m \u001b[39mif\u001b[39;00m name \u001b[39mnot\u001b[39;00m \u001b[39min\u001b[39;00m \u001b[39mself\u001b[39m\u001b[39m.\u001b[39mresults:\n\u001b[1;32m    740\u001b[0m     \u001b[39m# For some reason the calculator was not able to do what we want,\u001b[39;00m\n\u001b[1;32m    741\u001b[0m     \u001b[39m# and that is OK.\u001b[39;00m\n\u001b[1;32m    742\u001b[0m     \u001b[39mraise\u001b[39;00m PropertyNotImplementedError(\u001b[39m'\u001b[39m\u001b[39m{}\u001b[39;00m\u001b[39m not present in this \u001b[39m\u001b[39m'\u001b[39m\n\u001b[1;32m    743\u001b[0m                                       \u001b[39m'\u001b[39m\u001b[39mcalculation\u001b[39m\u001b[39m'\u001b[39m\u001b[39m.\u001b[39mformat(name))\n",
      "File \u001b[0;32m/opt/homebrew/Caskroom/miniconda/base/envs/m3gnet/lib/python3.10/site-packages/m3gnet/models/_dynamics.py:86\u001b[0m, in \u001b[0;36mM3GNetCalculator.calculate\u001b[0;34m(self, atoms, properties, system_changes)\u001b[0m\n\u001b[1;32m     84\u001b[0m graph \u001b[39m=\u001b[39m \u001b[39mself\u001b[39m\u001b[39m.\u001b[39mpotential\u001b[39m.\u001b[39mgraph_converter(atoms)\n\u001b[1;32m     85\u001b[0m graph_list \u001b[39m=\u001b[39m graph\u001b[39m.\u001b[39mas_tf()\u001b[39m.\u001b[39mas_list()\n\u001b[0;32m---> 86\u001b[0m results \u001b[39m=\u001b[39m \u001b[39mself\u001b[39;49m\u001b[39m.\u001b[39;49mpotential\u001b[39m.\u001b[39;49mget_efs_tensor(graph_list, include_stresses\u001b[39m=\u001b[39;49m\u001b[39mself\u001b[39;49m\u001b[39m.\u001b[39;49mcompute_stress)\n\u001b[1;32m     87\u001b[0m \u001b[39mself\u001b[39m\u001b[39m.\u001b[39mresults\u001b[39m.\u001b[39mupdate(\n\u001b[1;32m     88\u001b[0m     energy\u001b[39m=\u001b[39mresults[\u001b[39m0\u001b[39m]\u001b[39m.\u001b[39mnumpy()\u001b[39m.\u001b[39mravel(),\n\u001b[1;32m     89\u001b[0m     free_energy\u001b[39m=\u001b[39mresults[\u001b[39m0\u001b[39m]\u001b[39m.\u001b[39mnumpy()\u001b[39m.\u001b[39mravel(),\n\u001b[1;32m     90\u001b[0m     forces\u001b[39m=\u001b[39mresults[\u001b[39m1\u001b[39m]\u001b[39m.\u001b[39mnumpy(),\n\u001b[1;32m     91\u001b[0m )\n\u001b[1;32m     92\u001b[0m \u001b[39mif\u001b[39;00m \u001b[39mself\u001b[39m\u001b[39m.\u001b[39mcompute_stress:\n",
      "File \u001b[0;32m/opt/homebrew/Caskroom/miniconda/base/envs/m3gnet/lib/python3.10/site-packages/tensorflow/python/util/traceback_utils.py:153\u001b[0m, in \u001b[0;36mfilter_traceback.<locals>.error_handler\u001b[0;34m(*args, **kwargs)\u001b[0m\n\u001b[1;32m    151\u001b[0m \u001b[39mexcept\u001b[39;00m \u001b[39mException\u001b[39;00m \u001b[39mas\u001b[39;00m e:\n\u001b[1;32m    152\u001b[0m   filtered_tb \u001b[39m=\u001b[39m _process_traceback_frames(e\u001b[39m.\u001b[39m__traceback__)\n\u001b[0;32m--> 153\u001b[0m   \u001b[39mraise\u001b[39;00m e\u001b[39m.\u001b[39mwith_traceback(filtered_tb) \u001b[39mfrom\u001b[39;00m \u001b[39mNone\u001b[39m\n\u001b[1;32m    154\u001b[0m \u001b[39mfinally\u001b[39;00m:\n\u001b[1;32m    155\u001b[0m   \u001b[39mdel\u001b[39;00m filtered_tb\n",
      "File \u001b[0;32m/opt/homebrew/Caskroom/miniconda/base/envs/m3gnet/lib/python3.10/site-packages/tensorflow/python/eager/execute.py:54\u001b[0m, in \u001b[0;36mquick_execute\u001b[0;34m(op_name, num_outputs, inputs, attrs, ctx, name)\u001b[0m\n\u001b[1;32m     52\u001b[0m \u001b[39mtry\u001b[39;00m:\n\u001b[1;32m     53\u001b[0m   ctx\u001b[39m.\u001b[39mensure_initialized()\n\u001b[0;32m---> 54\u001b[0m   tensors \u001b[39m=\u001b[39m pywrap_tfe\u001b[39m.\u001b[39mTFE_Py_Execute(ctx\u001b[39m.\u001b[39m_handle, device_name, op_name,\n\u001b[1;32m     55\u001b[0m                                       inputs, attrs, num_outputs)\n\u001b[1;32m     56\u001b[0m \u001b[39mexcept\u001b[39;00m core\u001b[39m.\u001b[39m_NotOkStatusException \u001b[39mas\u001b[39;00m e:\n\u001b[1;32m     57\u001b[0m   \u001b[39mif\u001b[39;00m name \u001b[39mis\u001b[39;00m \u001b[39mnot\u001b[39;00m \u001b[39mNone\u001b[39;00m:\n",
      "\u001b[0;31mNotFoundError\u001b[0m: Graph execution error:\n\nDetected at node 'gradients/m3g_net/graph_network_layer/gated_atom_update/UnsortedSegmentSum_grad/and' defined at (most recent call last):\n    File \"/opt/homebrew/Caskroom/miniconda/base/envs/m3gnet/lib/python3.10/runpy.py\", line 196, in _run_module_as_main\n      return _run_code(code, main_globals, None,\n    File \"/opt/homebrew/Caskroom/miniconda/base/envs/m3gnet/lib/python3.10/runpy.py\", line 86, in _run_code\n      exec(code, run_globals)\n    File \"/opt/homebrew/Caskroom/miniconda/base/envs/m3gnet/lib/python3.10/site-packages/ipykernel_launcher.py\", line 17, in <module>\n      app.launch_new_instance()\n    File \"/opt/homebrew/Caskroom/miniconda/base/envs/m3gnet/lib/python3.10/site-packages/traitlets/config/application.py\", line 976, in launch_instance\n      app.start()\n    File \"/opt/homebrew/Caskroom/miniconda/base/envs/m3gnet/lib/python3.10/site-packages/ipykernel/kernelapp.py\", line 712, in start\n      self.io_loop.start()\n    File \"/opt/homebrew/Caskroom/miniconda/base/envs/m3gnet/lib/python3.10/site-packages/tornado/platform/asyncio.py\", line 215, in start\n      self.asyncio_loop.run_forever()\n    File \"/opt/homebrew/Caskroom/miniconda/base/envs/m3gnet/lib/python3.10/asyncio/base_events.py\", line 600, in run_forever\n      self._run_once()\n    File \"/opt/homebrew/Caskroom/miniconda/base/envs/m3gnet/lib/python3.10/asyncio/base_events.py\", line 1896, in _run_once\n      handle._run()\n    File \"/opt/homebrew/Caskroom/miniconda/base/envs/m3gnet/lib/python3.10/asyncio/events.py\", line 80, in _run\n      self._context.run(self._callback, *self._args)\n    File \"/opt/homebrew/Caskroom/miniconda/base/envs/m3gnet/lib/python3.10/site-packages/ipykernel/kernelbase.py\", line 510, in dispatch_queue\n      await self.process_one()\n    File \"/opt/homebrew/Caskroom/miniconda/base/envs/m3gnet/lib/python3.10/site-packages/ipykernel/kernelbase.py\", line 499, in process_one\n      await dispatch(*args)\n    File \"/opt/homebrew/Caskroom/miniconda/base/envs/m3gnet/lib/python3.10/site-packages/ipykernel/kernelbase.py\", line 406, in dispatch_shell\n      await result\n    File \"/opt/homebrew/Caskroom/miniconda/base/envs/m3gnet/lib/python3.10/site-packages/ipykernel/kernelbase.py\", line 730, in execute_request\n      reply_content = await reply_content\n    File \"/opt/homebrew/Caskroom/miniconda/base/envs/m3gnet/lib/python3.10/site-packages/ipykernel/ipkernel.py\", line 383, in do_execute\n      res = shell.run_cell(\n    File \"/opt/homebrew/Caskroom/miniconda/base/envs/m3gnet/lib/python3.10/site-packages/ipykernel/zmqshell.py\", line 528, in run_cell\n      return super().run_cell(*args, **kwargs)\n    File \"/opt/homebrew/Caskroom/miniconda/base/envs/m3gnet/lib/python3.10/site-packages/IPython/core/interactiveshell.py\", line 2881, in run_cell\n      result = self._run_cell(\n    File \"/opt/homebrew/Caskroom/miniconda/base/envs/m3gnet/lib/python3.10/site-packages/IPython/core/interactiveshell.py\", line 2936, in _run_cell\n      return runner(coro)\n    File \"/opt/homebrew/Caskroom/miniconda/base/envs/m3gnet/lib/python3.10/site-packages/IPython/core/async_helpers.py\", line 129, in _pseudo_sync_runner\n      coro.send(None)\n    File \"/opt/homebrew/Caskroom/miniconda/base/envs/m3gnet/lib/python3.10/site-packages/IPython/core/interactiveshell.py\", line 3135, in run_cell_async\n      has_raised = await self.run_ast_nodes(code_ast.body, cell_name,\n    File \"/opt/homebrew/Caskroom/miniconda/base/envs/m3gnet/lib/python3.10/site-packages/IPython/core/interactiveshell.py\", line 3338, in run_ast_nodes\n      if await self.run_code(code, result, async_=asy):\n    File \"/opt/homebrew/Caskroom/miniconda/base/envs/m3gnet/lib/python3.10/site-packages/IPython/core/interactiveshell.py\", line 3398, in run_code\n      exec(code_obj, self.user_global_ns, self.user_ns)\n    File \"/var/folders/5m/sb0wx83j0m36xk_zswkfnffh0000gn/T/ipykernel_9555/3879703908.py\", line 2, in <cell line: 2>\n      get_ipython().run_line_magic('time', 'relax_results = relaxer.relax(lfp_strained)')\n    File \"/opt/homebrew/Caskroom/miniconda/base/envs/m3gnet/lib/python3.10/site-packages/IPython/core/interactiveshell.py\", line 2305, in run_line_magic\n      result = fn(*args, **kwargs)\n    File \"/opt/homebrew/Caskroom/miniconda/base/envs/m3gnet/lib/python3.10/site-packages/IPython/core/magics/execution.py\", line 1316, in time\n      exec(code, glob, local_ns)\n    File \"<timed exec>\", line 1, in <module>\n    File \"/opt/homebrew/Caskroom/miniconda/base/envs/m3gnet/lib/python3.10/site-packages/m3gnet/models/_dynamics.py\", line 167, in relax\n      optimizer = self.opt_class(atoms, **kwargs)\n    File \"/opt/homebrew/Caskroom/miniconda/base/envs/m3gnet/lib/python3.10/site-packages/ase/optimize/fire.py\", line 54, in __init__\n      Optimizer.__init__(self, atoms, restart, logfile, trajectory,\n    File \"/opt/homebrew/Caskroom/miniconda/base/envs/m3gnet/lib/python3.10/site-packages/ase/optimize/optimize.py\", line 234, in __init__\n      self.set_force_consistent()\n    File \"/opt/homebrew/Caskroom/miniconda/base/envs/m3gnet/lib/python3.10/site-packages/ase/optimize/optimize.py\", line 325, in set_force_consistent\n      self.atoms.get_potential_energy(force_consistent=True)\n    File \"/opt/homebrew/Caskroom/miniconda/base/envs/m3gnet/lib/python3.10/site-packages/ase/constraints.py\", line 2420, in get_potential_energy\n      atoms_energy = self.atoms.get_potential_energy(\n    File \"/opt/homebrew/Caskroom/miniconda/base/envs/m3gnet/lib/python3.10/site-packages/ase/atoms.py\", line 728, in get_potential_energy\n      energy = self._calc.get_potential_energy(\n    File \"/opt/homebrew/Caskroom/miniconda/base/envs/m3gnet/lib/python3.10/site-packages/ase/calculators/calculator.py\", line 709, in get_potential_energy\n      energy = self.get_property('energy', atoms)\n    File \"/opt/homebrew/Caskroom/miniconda/base/envs/m3gnet/lib/python3.10/site-packages/ase/calculators/calculator.py\", line 737, in get_property\n      self.calculate(atoms, [name], system_changes)\n    File \"/opt/homebrew/Caskroom/miniconda/base/envs/m3gnet/lib/python3.10/site-packages/m3gnet/models/_dynamics.py\", line 86, in calculate\n      results = self.potential.get_efs_tensor(graph_list, include_stresses=self.compute_stress)\n    File \"/opt/homebrew/Caskroom/miniconda/base/envs/m3gnet/lib/python3.10/site-packages/m3gnet/models/_base.py\", line 188, in get_efs_tensor\n      derivatives = tape.gradient(energies, derivatives)\nNode: 'gradients/m3g_net/graph_network_layer/gated_atom_update/UnsortedSegmentSum_grad/and'\nNo registered 'BroadcastTo' OpKernel for 'GPU' devices compatible with node {{node gradients/m3g_net/graph_network_layer/gated_atom_update/UnsortedSegmentSum_grad/and}}\n\t (OpKernel was found, but attributes didn't match) Requested Attributes: T=DT_BOOL, Tidx=DT_INT32, _XlaHasReferenceVars=false, _device=\"/job:localhost/replica:0/task:0/device:GPU:0\"\n\t.  Registered:  device='XLA_CPU_JIT'; Tidx in [DT_INT32, DT_INT64]; T in [DT_FLOAT, DT_DOUBLE, DT_INT32, DT_UINT8, DT_INT16, 16005131165644881776, DT_UINT16, DT_COMPLEX128, DT_HALF, DT_UINT32, DT_UINT64]\n  device='GPU'; T in [DT_FLOAT]\n  device='DEFAULT'; T in [DT_INT32]\n  device='CPU'; T in [DT_UINT64]\n  device='CPU'; T in [DT_INT64]\n  device='CPU'; T in [DT_UINT32]\n  device='CPU'; T in [DT_UINT16]\n  device='CPU'; T in [DT_INT16]\n  device='CPU'; T in [DT_UINT8]\n  device='CPU'; T in [DT_INT8]\n  device='CPU'; T in [DT_INT32]\n  device='CPU'; T in [DT_HALF]\n  device='CPU'; T in [DT_BFLOAT16]\n  device='CPU'; T in [DT_FLOAT]\n  device='CPU'; T in [DT_DOUBLE]\n  device='CPU'; T in [DT_COMPLEX64]\n  device='CPU'; T in [DT_COMPLEX128]\n  device='CPU'; T in [DT_BOOL]\n  device='CPU'; T in [DT_STRING]\n  device='CPU'; T in [DT_RESOURCE]\n  device='CPU'; T in [DT_VARIANT]\n\n\t [[PartitionedCall/gradients/m3g_net/graph_network_layer/gated_atom_update/UnsortedSegmentSum_grad/and]] [Op:__inference_get_efs_tensor_7426]"
     ]
    },
    {
     "ename": "NameError",
     "evalue": "name 'relax_results' is not defined",
     "output_type": "error",
     "traceback": [
      "\u001b[0;31m---------------------------------------------------------------------------\u001b[0m",
      "\u001b[0;31mNameError\u001b[0m                                 Traceback (most recent call last)",
      "\u001b[1;32m/Users/janosh/dev/m3gnet/examples/Relaxation of LiFePO4.ipynb Cell 5\u001b[0m in \u001b[0;36m<cell line: 3>\u001b[0;34m()\u001b[0m\n\u001b[1;32m      <a href='vscode-notebook-cell:/Users/janosh/dev/m3gnet/examples/Relaxation%20of%20LiFePO4.ipynb#ch0000004?line=0'>1</a>\u001b[0m relaxer \u001b[39m=\u001b[39m Relaxer()\n\u001b[1;32m      <a href='vscode-notebook-cell:/Users/janosh/dev/m3gnet/examples/Relaxation%20of%20LiFePO4.ipynb#ch0000004?line=1'>2</a>\u001b[0m get_ipython()\u001b[39m.\u001b[39mrun_line_magic(\u001b[39m'\u001b[39m\u001b[39mtime\u001b[39m\u001b[39m'\u001b[39m, \u001b[39m'\u001b[39m\u001b[39mrelax_results = relaxer.relax(lfp_strained)\u001b[39m\u001b[39m'\u001b[39m)\n\u001b[0;32m----> <a href='vscode-notebook-cell:/Users/janosh/dev/m3gnet/examples/Relaxation%20of%20LiFePO4.ipynb#ch0000004?line=2'>3</a>\u001b[0m relaxed \u001b[39m=\u001b[39m relax_results[\u001b[39m\"\u001b[39m\u001b[39mfinal_structure\u001b[39m\u001b[39m\"\u001b[39m]\n",
      "\u001b[0;31mNameError\u001b[0m: name 'relax_results' is not defined"
     ]
    }
   ],
   "source": [
    "relaxer = Relaxer()\n",
    "relax_results: dict\n",
    "%time relax_results = relaxer.relax(lfp_strained)\n",
    "relaxed = relax_results[\"final_structure\"]"
   ]
  },
  {
   "cell_type": "markdown",
   "id": "a9ede3fc",
   "metadata": {},
   "source": [
    "Note that the relaxation only took < 20s."
   ]
  },
  {
   "cell_type": "code",
   "execution_count": 13,
   "id": "2abb1e07",
   "metadata": {},
   "outputs": [
    {
     "name": "stdout",
     "output_type": "stream",
     "text": [
      "Original lattice parameters are [4.746, 10.444, 6.09]\n",
      "Strained lattice parameters are [4.751, 10.912, 5.849]\n",
      "Relaxed lattice parameters are [4.75, 10.444, 6.106]\n"
     ]
    }
   ],
   "source": [
    "print(f\"Original lattice parameters are {[round(x, 3) for x in lfp.lattice.abc]}\")\n",
    "print(f\"Strained lattice parameters are {[round(x, 3) for x in lfp_strained.lattice.abc]}\")\n",
    "print(f\"Relaxed lattice parameters are {[round(x, 3) for x in relaxed.lattice.abc]}\")"
   ]
  },
  {
   "cell_type": "code",
   "execution_count": 5,
   "id": "7b2ddfd6",
   "metadata": {},
   "outputs": [
    {
     "name": "stdout",
     "output_type": "stream",
     "text": [
      "Diff in fractional coords:\n",
      "[[-0.00387997 -0.00279335 -0.00278419]\n",
      " [-0.0105322   0.00017964 -0.00350815]\n",
      " [ 0.00567224 -0.00023636 -0.00763473]\n",
      " [ 0.00193715  0.00778645 -0.0020107 ]\n",
      " [ 0.00225437  0.00170045  0.00172863]\n",
      " [ 0.00097444  0.00094502  0.00388633]\n",
      " [ 0.00345818  0.00368189  0.0024407 ]\n",
      " [-0.00038704  0.00417402  0.00208854]\n",
      " [ 0.00349925  0.00451124 -0.00329377]\n",
      " [ 0.00301799  0.00162616  0.00426465]\n",
      " [-0.00035351  0.0040381   0.00160278]\n",
      " [-0.00239293  0.00165153 -0.00127454]\n",
      " [ 0.00438634  0.00427503 -0.00071235]\n",
      " [ 0.00422623  0.002672    0.00449112]\n",
      " [-0.00079353  0.0043336  -0.00153869]\n",
      " [-0.0033543   0.00193773 -0.00280839]\n",
      " [-0.00151142  0.00393776 -0.00398973]\n",
      " [-0.00481124  0.00160034 -0.00323102]\n",
      " [ 0.00471888  0.0048146  -0.00417542]\n",
      " [ 0.0007874   0.00072707  0.00049835]\n",
      " [ 0.0041545   0.00410332 -0.00345285]\n",
      " [ 0.00412935  0.0025092   0.00449315]\n",
      " [ 0.00459609  0.0002639   0.00462091]\n",
      " [ 0.00272673  0.00434772 -0.00369026]\n",
      " [ 0.00018383  0.00028395  0.00456975]\n",
      " [-0.0012521   0.00108056  0.00068582]\n",
      " [-0.00093808  0.00435831  0.00110198]\n",
      " [ 0.0003874   0.00588312  0.0040137 ]]\n"
     ]
    }
   ],
   "source": [
    "print(f\"Diff in fractional coords:\\n{pbc_diff(lfp.frac_coords, relaxed.frac_coords)}\")"
   ]
  },
  {
   "cell_type": "markdown",
   "id": "d1b355f7",
   "metadata": {},
   "source": [
    "Quite clealy, the relaxation using the M3GNet universal IAP has brought the lattice parameters much closer to the original DFT one and the coordinates are also within $10^{-3}$ of the original fractional coordinates."
   ]
  }
 ],
 "metadata": {
  "kernelspec": {
   "display_name": "Python 3 (ipykernel)",
   "language": "python",
   "name": "python3"
  },
  "language_info": {
   "codemirror_mode": {
    "name": "ipython",
    "version": 3
   },
   "file_extension": ".py",
   "mimetype": "text/x-python",
   "name": "python",
   "nbconvert_exporter": "python",
   "pygments_lexer": "ipython3",
   "version": "3.9.12"
  },
  "vscode": {
   "interpreter": {
    "hash": "95e5cb0dae99d6911ce19b14750141ca4ad955f9302739260772daefb06054c0"
   }
  }
 },
 "nbformat": 4,
 "nbformat_minor": 5
}
