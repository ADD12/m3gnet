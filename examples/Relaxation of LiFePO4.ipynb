{
 "cells": [
  {
   "cell_type": "markdown",
   "id": "556686fe",
   "metadata": {},
   "source": [
    "# Introduction\n",
    "\n",
    "This notebook shows an example of relaxing the LiFePO4 crystal.\n",
    "\n",
    "If you are running this notebook from Google Colab, uncomment the next code box to install m3gnet first.\n",
    "\n",
    "> Note: Because Google Colab's python version is sometimes rather old (v3.7 at the time of writing this notebook (Jul 2022), you will need to install m3gnet without dependencies and install the dependencies manually."
   ]
  },
  {
   "cell_type": "code",
   "execution_count": 1,
   "id": "5818a2b9",
   "metadata": {},
   "outputs": [],
   "source": [
    "# !pip install --no-deps m3gnet\n",
    "# !pip install pymatgen ase\n",
    "# !pip install lxml"
   ]
  },
  {
   "cell_type": "code",
   "execution_count": 2,
   "id": "5e008446",
   "metadata": {},
   "outputs": [
    {
     "name": "stderr",
     "output_type": "stream",
     "text": [
      "/Users/shyue/repos/pymatgen/pymatgen/analysis/phase_diagram.py:24: TqdmExperimentalWarning: Using `tqdm.autonotebook.tqdm` in notebook mode. Use `tqdm.tqdm` instead to force console mode (e.g. in jupyter console)\n",
      "  from tqdm.autonotebook import tqdm\n"
     ]
    }
   ],
   "source": [
    "import warnings\n",
    "\n",
    "import numpy as np\n",
    "from pymatgen.ext.matproj import MPRester\n",
    "from pymatgen.util.coord import pbc_diff\n",
    "\n",
    "from m3gnet.models import Relaxer\n",
    "\n",
    "for category in (UserWarning, DeprecationWarning):\n",
    "    warnings.filterwarnings(\"ignore\", category=category, module=\"tensorflow\")"
   ]
  },
  {
   "cell_type": "code",
   "execution_count": 3,
   "id": "0cc2e942",
   "metadata": {},
   "outputs": [
    {
     "name": "stderr",
     "output_type": "stream",
     "text": [
      "/Users/shyue/repos/pymatgen/pymatgen/ext/matproj.py:1758: UserWarning: You are using a new API key. This unofficial MPRester support for the new API is intended purely to facilitate simple convenience queries in the interim. There are no plans to build this into a full-featured API client. It is highly recommended that you install the mp-api package for full API functionality.\n",
      "  warnings.warn(\n"
     ]
    }
   ],
   "source": [
    "mpr = MPRester()\n",
    "lfp = mpr.get_structure_by_material_id(\"mp-19017\")  # This is LiFePO4.\n",
    "\n",
    "lfp_strained = lfp.copy()  # We create a copy.\n",
    "# Create a random strain between -5% and 5% for each direction\n",
    "strains = np.random.uniform(low=-0.05, high=0.05, size=3)\n",
    "lfp_strained.apply_strain(strains)\n",
    "# In addition to the lattice strains, we also perturb the atoms by a distance of 0.1 angstrom.\n",
    "lfp_strained.perturb(0.1)"
   ]
  },
  {
   "cell_type": "code",
   "execution_count": 4,
   "id": "f8897c0e",
   "metadata": {},
   "outputs": [
    {
     "name": "stderr",
     "output_type": "stream",
     "text": [
      "2022-07-28 13:54:26.805333: W tensorflow/core/platform/profile_utils/cpu_utils.cc:128] Failed to get CPU frequency: 0 Hz\n"
     ]
    },
    {
     "name": "stdout",
     "output_type": "stream",
     "text": [
      "CPU times: user 22.9 s, sys: 44.7 s, total: 1min 7s\n",
      "Wall time: 12.6 s\n"
     ]
    }
   ],
   "source": [
    "relaxer = Relaxer()\n",
    "relax_results: dict\n",
    "%time relax_results = relaxer.relax(lfp_strained)\n",
    "relaxed = relax_results[\"final_structure\"]"
   ]
  },
  {
   "cell_type": "markdown",
   "id": "a9ede3fc",
   "metadata": {},
   "source": [
    "Note that the relaxation only took < 20s."
   ]
  },
  {
   "cell_type": "code",
   "execution_count": 5,
   "id": "2abb1e07",
   "metadata": {},
   "outputs": [
    {
     "name": "stdout",
     "output_type": "stream",
     "text": [
      "Original lattice parameters are [4.746, 10.444, 6.09]\n",
      "Strained lattice parameters are [4.813, 10.658, 6.157]\n",
      "Relaxed lattice parameters are [4.751, 10.451, 6.091]\n"
     ]
    }
   ],
   "source": [
    "print(f\"Original lattice parameters are {[round(x, 3) for x in lfp.lattice.abc]}\")\n",
    "print(f\"Strained lattice parameters are {[round(x, 3) for x in lfp_strained.lattice.abc]}\")\n",
    "print(f\"Relaxed lattice parameters are {[round(x, 3) for x in relaxed.lattice.abc]}\")"
   ]
  },
  {
   "cell_type": "code",
   "execution_count": 6,
   "id": "7b2ddfd6",
   "metadata": {},
   "outputs": [
    {
     "name": "stdout",
     "output_type": "stream",
     "text": [
      "Diff in fractional coords:\n",
      "[[-6.44295515e-05  4.42190331e-03 -8.88747675e-03]\n",
      " [ 1.01354042e-02 -3.59713796e-03  4.00084024e-03]\n",
      " [ 1.02735788e-02  2.84398857e-03 -6.87950406e-03]\n",
      " [-6.30657207e-03  3.25853396e-03 -8.15319630e-03]\n",
      " [ 2.55439830e-03  3.13837100e-04  2.73700429e-03]\n",
      " [ 4.27699688e-03 -8.28934507e-04  5.22431816e-03]\n",
      " [-5.10305099e-03  2.62811369e-04  1.27624838e-03]\n",
      " [ 3.20187893e-03  1.12031331e-03  8.20301701e-04]\n",
      " [ 1.36107513e-03  8.19890738e-04  2.87038964e-04]\n",
      " [ 3.59550881e-03 -3.44683169e-04 -4.25391857e-03]\n",
      " [ 3.56245404e-03  1.54407833e-04  3.12803116e-03]\n",
      " [-7.94215693e-04 -2.07348846e-03 -8.65240814e-04]\n",
      " [ 3.17932869e-03 -1.52997662e-03  1.28374732e-03]\n",
      " [ 3.71227991e-03 -1.60643486e-03 -2.80079129e-03]\n",
      " [ 2.40632945e-03  5.02697953e-04 -2.25687770e-03]\n",
      " [-1.46934998e-03 -9.22684516e-05 -6.02061152e-03]\n",
      " [ 1.12287755e-03 -6.49010452e-04 -1.19041894e-03]\n",
      " [-1.19763132e-03 -1.78566718e-03  3.91931748e-03]\n",
      " [ 5.54552805e-04  1.21783152e-03 -9.66906134e-03]\n",
      " [ 4.04196582e-03 -1.51785027e-04 -6.30853076e-03]\n",
      " [ 3.01130183e-03  5.33135594e-03  3.73326589e-03]\n",
      " [ 1.97472795e-03  1.47753742e-03 -3.94291472e-03]\n",
      " [ 7.49013079e-04 -8.74024263e-04 -4.03811006e-03]\n",
      " [ 3.72393961e-03 -2.10889080e-03  3.88140477e-03]\n",
      " [ 3.59698882e-03 -2.65895738e-03  6.33455850e-03]\n",
      " [ 6.11865146e-05 -1.59177638e-03 -8.99243035e-04]\n",
      " [-2.92065200e-03 -3.08716699e-03 -1.27346937e-03]\n",
      " [ 3.44259661e-03  1.85818819e-03  6.14173325e-03]]\n"
     ]
    }
   ],
   "source": [
    "print(f\"Diff in fractional coords:\\n{pbc_diff(lfp.frac_coords, relaxed.frac_coords)}\")"
   ]
  },
  {
   "cell_type": "markdown",
   "id": "d1b355f7",
   "metadata": {},
   "source": [
    "Quite clealy, the relaxation using the M3GNet universal IAP has brought the lattice parameters much closer to the original DFT one and the coordinates are also within $10^{-3}$ of the original fractional coordinates."
   ]
  },
  {
   "cell_type": "code",
   "execution_count": 17,
   "id": "71339aa0",
   "metadata": {},
   "outputs": [
    {
     "name": "stdout",
     "output_type": "stream",
     "text": [
      "WARNING, 1 imaginary frequencies at q = ( 0.00,  0.00,  0.00) ; (omega_q = 3.625e-09*i)\n",
      "WARNING, 1 imaginary frequencies at q = ( 0.00,  0.00,  0.00) ; (omega_q = 3.625e-09*i)\n"
     ]
    },
    {
     "data": {
      "text/plain": [
       "Text(0.5, 0, 'DOS')"
      ]
     },
     "execution_count": 17,
     "metadata": {},
     "output_type": "execute_result"
    },
    {
     "data": {
      "image/png": "[encoded data removed]",
      "text/plain": [
       "<Figure size 504x288 with 2 Axes>"
      ]
     },
     "metadata": {
      "needs_background": "light"
     },
     "output_type": "display_data"
    }
   ],
   "source": [
    "from ase.phonons import Phonons\n",
    "from pymatgen.io.ase import AseAtomsAdaptor\n",
    "\n",
    "from m3gnet.models import M3GNet, M3GNetCalculator, Potential\n",
    "\n",
    "relaxed = mpr.get_structure_by_material_id(\"mp-129\")\n",
    "\n",
    "# Setup crystal and EMT calculator\n",
    "atoms = AseAtomsAdaptor().get_atoms(relaxed)\n",
    "\n",
    "potential = Potential(M3GNet.load())\n",
    "\n",
    "calculator = M3GNetCalculator(potential=potential, stress_weight=0.01)\n",
    "\n",
    "# Phonon calculator\n",
    "N = 7\n",
    "ph = Phonons(atoms, calculator, supercell=(N, N, N), delta=0.05)\n",
    "ph.run()\n",
    "\n",
    "# Read forces and assemble the dynamical matrix\n",
    "ph.read(acoustic=True)\n",
    "ph.clean()\n",
    "\n",
    "path = atoms.cell.bandpath(\"GHPGN\", npoints=100)\n",
    "bs = ph.get_band_structure(path)\n",
    "\n",
    "dos = ph.get_dos(kpts=(20, 20, 20)).sample_grid(npts=100, width=1e-3)\n",
    "\n",
    "# Plot the band structure and DOS:\n",
    "import matplotlib.pyplot as plt  # noqa\n",
    "\n",
    "fig = plt.figure(1, figsize=(7, 4))\n",
    "ax = fig.add_axes([0.12, 0.07, 0.67, 0.85])\n",
    "\n",
    "emax = 0.035\n",
    "bs.plot(ax=ax, emin=0.0, emax=emax)\n",
    "\n",
    "dosax = fig.add_axes([0.8, 0.07, 0.17, 0.85])\n",
    "dosax.fill_between(dos.get_weights(), dos.get_energies(), y2=0, color=\"grey\", edgecolor=\"k\", lw=1)\n",
    "\n",
    "dosax.set_ylim(0, emax)\n",
    "dosax.set_yticks([])\n",
    "dosax.set_xticks([])\n",
    "dosax.set_xlabel(\"DOS\", fontsize=18)"
   ]
  },
  {
   "cell_type": "code",
   "execution_count": 9,
   "id": "5880ae6f",
   "metadata": {},
   "outputs": [
    {
     "data": {
      "text/plain": [
       "343"
      ]
     },
     "execution_count": 9,
     "metadata": {},
     "output_type": "execute_result"
    }
   ],
   "source": []
  },
  {
   "cell_type": "code",
   "execution_count": null,
   "id": "ca07282d",
   "metadata": {},
   "outputs": [],
   "source": []
  }
 ],
 "metadata": {
  "kernelspec": {
   "display_name": "Python 3 (ipykernel)",
   "language": "python",
   "name": "python3"
  },
  "language_info": {
   "codemirror_mode": {
    "name": "ipython",
    "version": 3
   },
   "file_extension": ".py",
   "mimetype": "text/x-python",
   "name": "python",
   "nbconvert_exporter": "python",
   "pygments_lexer": "ipython3",
   "version": "3.9.12"
  },
  "vscode": {
   "interpreter": {
    "hash": "95e5cb0dae99d6911ce19b14750141ca4ad955f9302739260772daefb06054c0"
   }
  }
 },
 "nbformat": 4,
 "nbformat_minor": 5
}
