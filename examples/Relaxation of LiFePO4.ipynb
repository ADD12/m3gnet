{
 "cells": [
  {
   "cell_type": "markdown",
   "id": "556686fe",
   "metadata": {},
   "source": [
    "# Introduction\n",
    "\n",
    "This notebook shows an example of relaxing the LiFePO4 crystal.\n",
    "\n",
    "If you are running this notebook from Google Colab, uncomment the next code box to install m3gnet first.\n",
    "\n",
    "> Note: Because Google Colab's python version is sometimes rather old (v3.7 at the time of writing this notebook (Jul 2022), you will need to install m3gnet without dependencies and install the dependencies manually."
   ]
  },
  {
   "cell_type": "code",
   "execution_count": 1,
   "id": "5818a2b9",
   "metadata": {},
   "outputs": [],
   "source": [
    "# !pip install --no-deps m3gnet\n",
    "# !pip install pymatgen==2022.7.24.1 ase\n",
    "# !pip install lxml"
   ]
  },
  {
   "cell_type": "code",
   "execution_count": 2,
   "id": "5e008446",
   "metadata": {},
   "outputs": [
    {
     "name": "stderr",
     "output_type": "stream",
     "text": [
      "/Users/shyue/repos/pymatgen/pymatgen/analysis/phase_diagram.py:24: TqdmExperimentalWarning: Using `tqdm.autonotebook.tqdm` in notebook mode. Use `tqdm.tqdm` instead to force console mode (e.g. in jupyter console)\n",
      "  from tqdm.autonotebook import tqdm\n"
     ]
    }
   ],
   "source": [
    "import warnings\n",
    "\n",
    "import numpy as np\n",
    "from pymatgen.ext.matproj import MPRester\n",
    "from pymatgen.util.coord import pbc_diff\n",
    "\n",
    "from m3gnet.models import Relaxer\n",
    "\n",
    "for category in (UserWarning, DeprecationWarning):\n",
    "    warnings.filterwarnings(\"ignore\", category=category, module=\"tensorflow\")"
   ]
  },
  {
   "cell_type": "code",
   "execution_count": 3,
   "id": "dd27f94f",
   "metadata": {},
   "outputs": [
    {
     "data": {
      "text/plain": [
       "[]"
      ]
     },
     "execution_count": 3,
     "metadata": {},
     "output_type": "execute_result"
    }
   ],
   "source": [
    "import tensorflow as tf\n",
    "\n",
    "tf.config.experimental.list_physical_devices(\"GPU\")"
   ]
  },
  {
   "cell_type": "code",
   "execution_count": 4,
   "id": "0cc2e942",
   "metadata": {},
   "outputs": [],
   "source": [
    "mpr = MPRester()\n",
    "lfp = mpr.get_structure_by_material_id(\"mp-19017\")  # This is LiFePO4.\n",
    "\n",
    "lfp_strained = lfp.copy()  # We create a copy.\n",
    "# Create a random strain between -5% and 5% for each direction\n",
    "strains = np.random.uniform(low=-0.05, high=0.05, size=3)\n",
    "lfp_strained.apply_strain(strains)\n",
    "# In addition to the lattice strains, we also perturb the atoms by a distance of 0.1 angstrom.\n",
    "lfp_strained.perturb(0.1)"
   ]
  },
  {
   "cell_type": "code",
   "execution_count": 5,
   "id": "f8897c0e",
   "metadata": {},
   "outputs": [
    {
     "name": "stderr",
     "output_type": "stream",
     "text": [
      "2022-07-24 15:03:14.771265: W tensorflow/core/platform/profile_utils/cpu_utils.cc:128] Failed to get CPU frequency: 0 Hz\n"
     ]
    },
    {
     "name": "stdout",
     "output_type": "stream",
     "text": [
      "CPU times: user 26.5 s, sys: 52.1 s, total: 1min 18s\n",
      "Wall time: 13.8 s\n"
     ]
    }
   ],
   "source": [
    "relaxer = Relaxer()\n",
    "relax_results: dict\n",
    "%time relax_results = relaxer.relax(lfp_strained)\n",
    "relaxed = relax_results[\"final_structure\"]"
   ]
  },
  {
   "cell_type": "markdown",
   "id": "a9ede3fc",
   "metadata": {},
   "source": [
    "Note that the relaxation only took < 20s."
   ]
  },
  {
   "cell_type": "code",
   "execution_count": 6,
   "id": "2abb1e07",
   "metadata": {},
   "outputs": [
    {
     "name": "stdout",
     "output_type": "stream",
     "text": [
      "Original lattice parameters are [4.746, 10.444, 6.09]\n",
      "Strained lattice parameters are [4.895, 10.419, 5.992]\n",
      "Relaxed lattice parameters are [4.75, 10.479, 6.089]\n"
     ]
    }
   ],
   "source": [
    "print(f\"Original lattice parameters are {[round(x, 3) for x in lfp.lattice.abc]}\")\n",
    "print(f\"Strained lattice parameters are {[round(x, 3) for x in lfp_strained.lattice.abc]}\")\n",
    "print(f\"Relaxed lattice parameters are {[round(x, 3) for x in relaxed.lattice.abc]}\")"
   ]
  },
  {
   "cell_type": "code",
   "execution_count": 7,
   "id": "7b2ddfd6",
   "metadata": {},
   "outputs": [
    {
     "name": "stdout",
     "output_type": "stream",
     "text": [
      "Diff in fractional coords:\n",
      "[[ 9.36742659e-03 -1.06978158e-04 -7.19906965e-03]\n",
      " [-1.13854034e-02 -3.68619181e-03  5.14614062e-03]\n",
      " [ 1.50647751e-03  6.10458229e-03  1.90134261e-03]\n",
      " [ 7.48656414e-03 -4.61575271e-03  6.84919723e-04]\n",
      " [-1.02338781e-02  1.76648595e-05 -3.97704039e-04]\n",
      " [ 1.24420090e-03 -8.20538344e-04  4.61019604e-03]\n",
      " [-1.27134310e-02 -6.71093940e-04  4.28046841e-03]\n",
      " [ 3.59836654e-03  2.88985182e-04  5.91889157e-03]\n",
      " [-5.31843108e-03  7.02385796e-04 -2.76238489e-04]\n",
      " [-6.55750793e-03  5.71826107e-04  1.17736943e-03]\n",
      " [-2.71253330e-03  5.44621346e-04  3.25367010e-03]\n",
      " [-1.60554610e-03 -6.55113041e-04  1.90726132e-03]\n",
      " [-5.09356981e-03 -1.90120389e-04  2.53356120e-03]\n",
      " [-5.70023410e-03  1.86424315e-03 -3.63091794e-03]\n",
      " [-3.79238318e-03 -1.40521337e-03  7.29282734e-03]\n",
      " [-3.02907960e-03 -1.01625552e-04 -3.41108745e-03]\n",
      " [-3.35956380e-03  6.66578351e-05 -3.49700988e-03]\n",
      " [-9.54934588e-04 -4.95842832e-04  4.95638018e-03]\n",
      " [-5.76952829e-03  1.92099513e-04 -3.64330067e-03]\n",
      " [-5.00595896e-03  1.44034013e-03  9.06119803e-03]\n",
      " [-4.96080554e-03  1.52573084e-03  4.90045726e-04]\n",
      " [-2.74719111e-03 -2.90782406e-03 -8.63664028e-04]\n",
      " [-1.16603889e-02  3.63990429e-03 -7.65461273e-04]\n",
      " [-5.59257343e-03 -1.47369693e-04  8.72096945e-04]\n",
      " [-2.80182401e-06 -8.51283653e-04  4.36185607e-03]\n",
      " [-6.48213894e-04 -6.45230265e-05  1.42112113e-03]\n",
      " [-6.79644190e-03 -2.80966109e-03  1.21996692e-03]\n",
      " [-5.62120850e-03  3.80496757e-03  5.54351963e-03]]\n"
     ]
    }
   ],
   "source": [
    "print(f\"Diff in fractional coords:\\n{pbc_diff(lfp.frac_coords, relaxed.frac_coords)}\")"
   ]
  },
  {
   "cell_type": "markdown",
   "id": "d1b355f7",
   "metadata": {},
   "source": [
    "Quite clealy, the relaxation using the M3GNet universal IAP has brought the lattice parameters much closer to the original DFT one and the coordinates are also within $10^{-3}$ of the original fractional coordinates."
   ]
  }
 ],
 "metadata": {
  "kernelspec": {
   "display_name": "Python 3 (ipykernel)",
   "language": "python",
   "name": "python3"
  },
  "language_info": {
   "codemirror_mode": {
    "name": "ipython",
    "version": 3
   },
   "file_extension": ".py",
   "mimetype": "text/x-python",
   "name": "python",
   "nbconvert_exporter": "python",
   "pygments_lexer": "ipython3",
   "version": "3.9.12"
  },
  "vscode": {
   "interpreter": {
    "hash": "95e5cb0dae99d6911ce19b14750141ca4ad955f9302739260772daefb06054c0"
   }
  }
 },
 "nbformat": 4,
 "nbformat_minor": 5
}
