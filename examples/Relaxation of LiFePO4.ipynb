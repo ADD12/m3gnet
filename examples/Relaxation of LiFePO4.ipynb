{
 "cells": [
  {
   "cell_type": "markdown",
   "id": "556686fe",
   "metadata": {},
   "source": [
    "# Introduction\n",
    "\n",
    "This notebook shows an example of relaxing the LiFePO4 crystal.\n",
    "\n",
    "If you are running this notebook from Google Colab, uncomment the next code box to install m3gnet first.\n",
    "\n",
    "> Note: Because Google Colab's python version is sometimes rather old (v3.7 at the time of writing this notebook (Jul 2022), you will need to install m3gnet without dependencies and install the dependencies manually."
   ]
  },
  {
   "cell_type": "code",
   "execution_count": 1,
   "id": "5818a2b9",
   "metadata": {},
   "outputs": [],
   "source": [
    "# !pip install --no-deps m3gnet\n",
    "# !pip install pymatgen==2022.7.25 ase\n",
    "# !pip install lxml"
   ]
  },
  {
   "cell_type": "code",
   "execution_count": 2,
   "id": "5e008446",
   "metadata": {},
   "outputs": [
    {
     "name": "stderr",
     "output_type": "stream",
     "text": [
      "/Users/shyue/repos/pymatgen/pymatgen/analysis/phase_diagram.py:24: TqdmExperimentalWarning: Using `tqdm.autonotebook.tqdm` in notebook mode. Use `tqdm.tqdm` instead to force console mode (e.g. in jupyter console)\n",
      "  from tqdm.autonotebook import tqdm\n"
     ]
    }
   ],
   "source": [
    "import warnings\n",
    "\n",
    "import numpy as np\n",
    "from pymatgen.ext.matproj import MPRester\n",
    "from pymatgen.util.coord import pbc_diff\n",
    "\n",
    "from m3gnet.models import Relaxer\n",
    "\n",
    "for category in (UserWarning, DeprecationWarning):\n",
    "    warnings.filterwarnings(\"ignore\", category=category, module=\"tensorflow\")"
   ]
  },
  {
   "cell_type": "code",
   "execution_count": 3,
   "id": "0cc2e942",
   "metadata": {},
   "outputs": [],
   "source": [
    "mpr = MPRester()\n",
    "lfp = mpr.get_structure_by_material_id(\"mp-19017\")  # This is LiFePO4.\n",
    "\n",
    "lfp_strained = lfp.copy()  # We create a copy.\n",
    "# Create a random strain between -5% and 5% for each direction\n",
    "strains = np.random.uniform(low=-0.05, high=0.05, size=3)\n",
    "lfp_strained.apply_strain(strains)\n",
    "# In addition to the lattice strains, we also perturb the atoms by a distance of 0.1 angstrom.\n",
    "lfp_strained.perturb(0.1)"
   ]
  },
  {
   "cell_type": "code",
   "execution_count": 4,
   "id": "f8897c0e",
   "metadata": {},
   "outputs": [
    {
     "name": "stderr",
     "output_type": "stream",
     "text": [
      "2022-07-24 21:30:28.868092: W tensorflow/core/platform/profile_utils/cpu_utils.cc:128] Failed to get CPU frequency: 0 Hz\n"
     ]
    },
    {
     "name": "stdout",
     "output_type": "stream",
     "text": [
      "CPU times: user 25.7 s, sys: 1min 4s, total: 1min 29s\n",
      "Wall time: 13.2 s\n"
     ]
    }
   ],
   "source": [
    "relaxer = Relaxer()\n",
    "relax_results: dict\n",
    "%time relax_results = relaxer.relax(lfp_strained)\n",
    "relaxed = relax_results[\"final_structure\"]"
   ]
  },
  {
   "cell_type": "markdown",
   "id": "a9ede3fc",
   "metadata": {},
   "source": [
    "Note that the relaxation only took < 20s."
   ]
  },
  {
   "cell_type": "code",
   "execution_count": 5,
   "id": "2abb1e07",
   "metadata": {},
   "outputs": [
    {
     "name": "stdout",
     "output_type": "stream",
     "text": [
      "Original lattice parameters are [4.746, 10.444, 6.09]\n",
      "Strained lattice parameters are [4.536, 10.363, 5.85]\n",
      "Relaxed lattice parameters are [4.75, 10.47, 6.097]\n"
     ]
    }
   ],
   "source": [
    "print(f\"Original lattice parameters are {[round(x, 3) for x in lfp.lattice.abc]}\")\n",
    "print(f\"Strained lattice parameters are {[round(x, 3) for x in lfp_strained.lattice.abc]}\")\n",
    "print(f\"Relaxed lattice parameters are {[round(x, 3) for x in relaxed.lattice.abc]}\")"
   ]
  },
  {
   "cell_type": "code",
   "execution_count": 6,
   "id": "7b2ddfd6",
   "metadata": {},
   "outputs": [
    {
     "name": "stdout",
     "output_type": "stream",
     "text": [
      "Diff in fractional coords:\n",
      "[[-4.64361707e-03 -3.06481782e-03  3.74647855e-03]\n",
      " [ 8.02859719e-03  6.26714898e-03  4.97933234e-03]\n",
      " [-1.31883698e-02 -8.83147324e-04  5.89795745e-03]\n",
      " [-4.64026395e-03  5.05661593e-03  4.40057152e-03]\n",
      " [-8.76794142e-03  2.45582773e-03  5.40328037e-05]\n",
      " [ 5.28374525e-04  1.68821361e-03  5.42106497e-03]\n",
      " [-2.45758950e-03  1.21124957e-03 -5.26549883e-03]\n",
      " [-1.42590821e-03  1.69523936e-03  3.48087402e-03]\n",
      " [-2.35524606e-04  1.18366297e-03  3.87536397e-03]\n",
      " [-3.66929741e-03  1.57373143e-03 -5.88734966e-03]\n",
      " [-2.48292289e-04  1.67496478e-03  3.69234433e-03]\n",
      " [-9.07207118e-04  9.57576002e-04  1.30374382e-03]\n",
      " [ 7.44593938e-04 -1.96943047e-03  3.87303571e-03]\n",
      " [-2.71164521e-03  4.00439554e-03 -3.19666586e-03]\n",
      " [-8.53971794e-04  5.80939056e-04 -1.79057068e-03]\n",
      " [-1.65764774e-03  1.07835726e-03  2.71340778e-03]\n",
      " [ 1.62494549e-03  1.70281445e-03  3.30065896e-03]\n",
      " [-1.58885350e-03  1.34992745e-03 -2.39858462e-03]\n",
      " [-5.26457219e-03  1.72202001e-03  6.43464849e-03]\n",
      " [-5.24212378e-03  1.69072918e-03 -3.25894739e-03]\n",
      " [ 2.91135458e-03  1.37610924e-03  2.66570278e-03]\n",
      " [-4.07722271e-04  2.77839718e-04 -5.64435755e-03]\n",
      " [-2.15991979e-03  1.59888182e-03 -6.74893214e-03]\n",
      " [ 1.50671908e-03  3.84424892e-03  2.21222854e-03]\n",
      " [-3.06869563e-03  1.89112923e-03  5.11199936e-03]\n",
      " [-2.58508103e-03 -1.53604567e-03  2.95403497e-03]\n",
      " [ 2.10259384e-04  3.56624235e-03  4.12124673e-03]\n",
      " [ 1.97760194e-03  2.23488596e-03  4.62298729e-03]]\n"
     ]
    }
   ],
   "source": [
    "print(f\"Diff in fractional coords:\\n{pbc_diff(lfp.frac_coords, relaxed.frac_coords)}\")"
   ]
  },
  {
   "cell_type": "markdown",
   "id": "d1b355f7",
   "metadata": {},
   "source": [
    "Quite clealy, the relaxation using the M3GNet universal IAP has brought the lattice parameters much closer to the original DFT one and the coordinates are also within $10^{-3}$ of the original fractional coordinates."
   ]
  }
 ],
 "metadata": {
  "kernelspec": {
   "display_name": "Python 3 (ipykernel)",
   "language": "python",
   "name": "python3"
  },
  "language_info": {
   "codemirror_mode": {
    "name": "ipython",
    "version": 3
   },
   "file_extension": ".py",
   "mimetype": "text/x-python",
   "name": "python",
   "nbconvert_exporter": "python",
   "pygments_lexer": "ipython3",
   "version": "3.9.13"
  },
  "vscode": {
   "interpreter": {
    "hash": "95e5cb0dae99d6911ce19b14750141ca4ad955f9302739260772daefb06054c0"
   }
  }
 },
 "nbformat": 4,
 "nbformat_minor": 5
}
