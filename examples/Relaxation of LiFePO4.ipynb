{
 "cells": [
  {
   "cell_type": "markdown",
   "id": "556686fe",
   "metadata": {},
   "source": [
    "# Introduction\n",
    "\n",
    "This notebook shows an example of relaxing the LiFePO4 crystal."
   ]
  },
  {
   "cell_type": "code",
   "execution_count": 1,
   "id": "5e008446",
   "metadata": {},
   "outputs": [],
   "source": [
    "import numpy as np\n",
    "\n",
    "from pymatgen.ext.matproj import MPRester\n",
    "from pymatgen.util.coord import pbc_diff\n",
    "\n",
    "from m3gnet.models import Relaxer"
   ]
  },
  {
   "cell_type": "code",
   "execution_count": 2,
   "id": "0cc2e942",
   "metadata": {},
   "outputs": [],
   "source": [
    "mpr = MPRester()\n",
    "lfp = mpr.get_structure_by_material_id(\"mp-19017\")  # This is LiFePO4.\n",
    "\n",
    "lfp_strained = lfp.copy()  # We create a copy.\n",
    "strains = np.random.uniform(low=-0.05, high=0.05, size=3)  # Create a random strain between -5% and 5% for each direction\n",
    "lfp_strained.apply_strain(strains)\n",
    "lfp_strained.perturb(0.1)  # In addition to the lattice strains, we also perturb the atoms by a distance of 0.1 angstrom."
   ]
  },
  {
   "cell_type": "code",
   "execution_count": 3,
   "id": "f8897c0e",
   "metadata": {},
   "outputs": [
    {
     "name": "stderr",
     "output_type": "stream",
     "text": [
      "/Users/shyue/miniconda3/envs/mavrl/lib/python3.9/site-packages/tensorflow/python/framework/indexed_slices.py:444: UserWarning: Converting sparse IndexedSlices(IndexedSlices(indices=Tensor(\"PartitionedCall:4\", shape=(None,), dtype=int32), values=Tensor(\"PartitionedCall:3\", shape=(None, 3, 3), dtype=float32), dense_shape=Tensor(\"PartitionedCall:5\", shape=(3,), dtype=int32))) to a dense Tensor of unknown shape. This may consume a large amount of memory.\n",
      "  warnings.warn(\n",
      "/Users/shyue/miniconda3/envs/mavrl/lib/python3.9/site-packages/tensorflow/python/framework/indexed_slices.py:444: UserWarning: Converting sparse IndexedSlices(IndexedSlices(indices=Tensor(\"PartitionedCall:1\", shape=(2628,), dtype=int32), values=Tensor(\"Neg:0\", shape=(2628, 3), dtype=float32), dense_shape=Tensor(\"PartitionedCall:2\", shape=(2,), dtype=int32))) to a dense Tensor of unknown shape. This may consume a large amount of memory.\n",
      "  warnings.warn(\n",
      "2022-05-31 15:12:30.665157: W tensorflow/core/platform/profile_utils/cpu_utils.cc:128] Failed to get CPU frequency: 0 Hz\n"
     ]
    },
    {
     "name": "stdout",
     "output_type": "stream",
     "text": [
      "      Step     Time          Energy         fmax\n",
      "*Force-consistent energies used in optimization.\n",
      "FIRE:    0 15:12:30     -188.051178*      35.3037\n"
     ]
    },
    {
     "name": "stderr",
     "output_type": "stream",
     "text": [
      "/Users/shyue/miniconda3/envs/mavrl/lib/python3.9/site-packages/tensorflow/python/framework/indexed_slices.py:444: UserWarning: Converting sparse IndexedSlices(IndexedSlices(indices=Tensor(\"gradients/m3g_net/three_d_interaction_2/GatherV2_1_grad/Reshape_1:0\", shape=(None,), dtype=int32), values=Tensor(\"gradients/m3g_net/three_d_interaction_2/GatherV2_1_grad/Reshape:0\", dtype=float32), dense_shape=Tensor(\"gradients/m3g_net/three_d_interaction_2/GatherV2_1_grad/Cast:0\", shape=(None,), dtype=int32))) to a dense Tensor of unknown shape. This may consume a large amount of memory.\n",
      "  warnings.warn(\n",
      "/Users/shyue/miniconda3/envs/mavrl/lib/python3.9/site-packages/tensorflow/python/framework/indexed_slices.py:444: UserWarning: Converting sparse IndexedSlices(IndexedSlices(indices=Tensor(\"gradients/m3g_net/graph_network_layer_2/gated_atom_update_2/GatherV2_grad/Reshape_1:0\", shape=(None,), dtype=int32), values=Tensor(\"gradients/m3g_net/graph_network_layer_2/gated_atom_update_2/GatherV2_grad/Reshape:0\", dtype=float32), dense_shape=Tensor(\"gradients/m3g_net/graph_network_layer_2/gated_atom_update_2/GatherV2_grad/Cast:0\", shape=(None,), dtype=int32))) to a dense Tensor of unknown shape. This may consume a large amount of memory.\n",
      "  warnings.warn(\n",
      "/Users/shyue/miniconda3/envs/mavrl/lib/python3.9/site-packages/tensorflow/python/framework/indexed_slices.py:444: UserWarning: Converting sparse IndexedSlices(IndexedSlices(indices=Tensor(\"gradients/m3g_net/graph_network_layer_2/gated_atom_update_2/GatherV2_1_grad/Reshape_1:0\", shape=(None,), dtype=int32), values=Tensor(\"gradients/m3g_net/graph_network_layer_2/gated_atom_update_2/GatherV2_1_grad/Reshape:0\", dtype=float32), dense_shape=Tensor(\"gradients/m3g_net/graph_network_layer_2/gated_atom_update_2/GatherV2_1_grad/Cast:0\", shape=(None,), dtype=int32))) to a dense Tensor of unknown shape. This may consume a large amount of memory.\n",
      "  warnings.warn(\n",
      "/Users/shyue/miniconda3/envs/mavrl/lib/python3.9/site-packages/tensorflow/python/framework/indexed_slices.py:444: UserWarning: Converting sparse IndexedSlices(IndexedSlices(indices=Tensor(\"gradients/m3g_net/graph_network_layer_2/concat_atoms_2/GatherV2_grad/Reshape_1:0\", shape=(None,), dtype=int32), values=Tensor(\"gradients/m3g_net/graph_network_layer_2/concat_atoms_2/GatherV2_grad/Reshape:0\", dtype=float32), dense_shape=Tensor(\"gradients/m3g_net/graph_network_layer_2/concat_atoms_2/GatherV2_grad/Cast:0\", shape=(None,), dtype=int32))) to a dense Tensor of unknown shape. This may consume a large amount of memory.\n",
      "  warnings.warn(\n",
      "/Users/shyue/miniconda3/envs/mavrl/lib/python3.9/site-packages/tensorflow/python/framework/indexed_slices.py:444: UserWarning: Converting sparse IndexedSlices(IndexedSlices(indices=Tensor(\"gradients/m3g_net/three_d_interaction_1/GatherV2_1_grad/Reshape_1:0\", shape=(None,), dtype=int32), values=Tensor(\"gradients/m3g_net/three_d_interaction_1/GatherV2_1_grad/Reshape:0\", dtype=float32), dense_shape=Tensor(\"gradients/m3g_net/three_d_interaction_1/GatherV2_1_grad/Cast:0\", shape=(None,), dtype=int32))) to a dense Tensor of unknown shape. This may consume a large amount of memory.\n",
      "  warnings.warn(\n",
      "/Users/shyue/miniconda3/envs/mavrl/lib/python3.9/site-packages/tensorflow/python/framework/indexed_slices.py:444: UserWarning: Converting sparse IndexedSlices(IndexedSlices(indices=Tensor(\"gradients/m3g_net/graph_network_layer_1/gated_atom_update_1/GatherV2_grad/Reshape_1:0\", shape=(None,), dtype=int32), values=Tensor(\"gradients/m3g_net/graph_network_layer_1/gated_atom_update_1/GatherV2_grad/Reshape:0\", dtype=float32), dense_shape=Tensor(\"gradients/m3g_net/graph_network_layer_1/gated_atom_update_1/GatherV2_grad/Cast:0\", shape=(None,), dtype=int32))) to a dense Tensor of unknown shape. This may consume a large amount of memory.\n",
      "  warnings.warn(\n",
      "/Users/shyue/miniconda3/envs/mavrl/lib/python3.9/site-packages/tensorflow/python/framework/indexed_slices.py:444: UserWarning: Converting sparse IndexedSlices(IndexedSlices(indices=Tensor(\"gradients/m3g_net/graph_network_layer_1/gated_atom_update_1/GatherV2_1_grad/Reshape_1:0\", shape=(None,), dtype=int32), values=Tensor(\"gradients/m3g_net/graph_network_layer_1/gated_atom_update_1/GatherV2_1_grad/Reshape:0\", dtype=float32), dense_shape=Tensor(\"gradients/m3g_net/graph_network_layer_1/gated_atom_update_1/GatherV2_1_grad/Cast:0\", shape=(None,), dtype=int32))) to a dense Tensor of unknown shape. This may consume a large amount of memory.\n",
      "  warnings.warn(\n",
      "/Users/shyue/miniconda3/envs/mavrl/lib/python3.9/site-packages/tensorflow/python/framework/indexed_slices.py:444: UserWarning: Converting sparse IndexedSlices(IndexedSlices(indices=Tensor(\"gradients/m3g_net/graph_network_layer_1/concat_atoms_1/GatherV2_grad/Reshape_1:0\", shape=(None,), dtype=int32), values=Tensor(\"gradients/m3g_net/graph_network_layer_1/concat_atoms_1/GatherV2_grad/Reshape:0\", dtype=float32), dense_shape=Tensor(\"gradients/m3g_net/graph_network_layer_1/concat_atoms_1/GatherV2_grad/Cast:0\", shape=(None,), dtype=int32))) to a dense Tensor of unknown shape. This may consume a large amount of memory.\n",
      "  warnings.warn(\n",
      "/Users/shyue/miniconda3/envs/mavrl/lib/python3.9/site-packages/tensorflow/python/framework/indexed_slices.py:444: UserWarning: Converting sparse IndexedSlices(IndexedSlices(indices=Tensor(\"gradients/concat_1:0\", shape=(None,), dtype=int32), values=Tensor(\"gradients/concat:0\", shape=(None,), dtype=float32), dense_shape=Tensor(\"gradients/m3g_net/three_d_interaction_2/GatherV2_2_grad/Cast:0\", shape=(1,), dtype=int32))) to a dense Tensor of unknown shape. This may consume a large amount of memory.\n",
      "  warnings.warn(\n",
      "/Users/shyue/miniconda3/envs/mavrl/lib/python3.9/site-packages/tensorflow/python/framework/indexed_slices.py:444: UserWarning: Converting sparse IndexedSlices(IndexedSlices(indices=Tensor(\"gradients/m3g_net/GatherV2_5_grad/Reshape_1:0\", shape=(None,), dtype=int32), values=Tensor(\"gradients/m3g_net/GatherV2_5_grad/Reshape:0\", shape=(None,), dtype=float32), dense_shape=Tensor(\"gradients/m3g_net/GatherV2_5_grad/Cast:0\", shape=(1,), dtype=int32))) to a dense Tensor of unknown shape. This may consume a large amount of memory.\n",
      "  warnings.warn(\n",
      "/Users/shyue/miniconda3/envs/mavrl/lib/python3.9/site-packages/tensorflow/python/framework/indexed_slices.py:444: UserWarning: Converting sparse IndexedSlices(IndexedSlices(indices=Tensor(\"gradients/m3g_net/GatherV2_6_grad/Reshape_1:0\", shape=(None,), dtype=int32), values=Tensor(\"gradients/m3g_net/GatherV2_6_grad/Reshape:0\", shape=(None,), dtype=float32), dense_shape=Tensor(\"gradients/m3g_net/GatherV2_6_grad/Cast:0\", shape=(1,), dtype=int32))) to a dense Tensor of unknown shape. This may consume a large amount of memory.\n",
      "  warnings.warn(\n",
      "/Users/shyue/miniconda3/envs/mavrl/lib/python3.9/site-packages/tensorflow/python/framework/indexed_slices.py:444: UserWarning: Converting sparse IndexedSlices(IndexedSlices(indices=Tensor(\"gradients/m3g_net/GatherV2_3_grad/Reshape_1:0\", shape=(None,), dtype=int32), values=Tensor(\"gradients/m3g_net/GatherV2_3_grad/Reshape:0\", shape=(None, 3), dtype=float32), dense_shape=Tensor(\"gradients/m3g_net/GatherV2_3_grad/Cast:0\", shape=(2,), dtype=int32))) to a dense Tensor of unknown shape. This may consume a large amount of memory.\n",
      "  warnings.warn(\n",
      "/Users/shyue/miniconda3/envs/mavrl/lib/python3.9/site-packages/tensorflow/python/framework/indexed_slices.py:444: UserWarning: Converting sparse IndexedSlices(IndexedSlices(indices=Tensor(\"gradients/m3g_net/GatherV2_4_grad/Reshape_1:0\", shape=(None,), dtype=int32), values=Tensor(\"gradients/m3g_net/GatherV2_4_grad/Reshape:0\", shape=(None, 3), dtype=float32), dense_shape=Tensor(\"gradients/m3g_net/GatherV2_4_grad/Cast:0\", shape=(2,), dtype=int32))) to a dense Tensor of unknown shape. This may consume a large amount of memory.\n",
      "  warnings.warn(\n",
      "/Users/shyue/miniconda3/envs/mavrl/lib/python3.9/site-packages/tensorflow/python/framework/indexed_slices.py:444: UserWarning: Converting sparse IndexedSlices(IndexedSlices(indices=Tensor(\"PartitionedCall:1\", shape=(None,), dtype=int32), values=Tensor(\"Neg:0\", shape=(None, 3), dtype=float32), dense_shape=Tensor(\"PartitionedCall:2\", shape=(2,), dtype=int32))) to a dense Tensor of unknown shape. This may consume a large amount of memory.\n",
      "  warnings.warn(\n"
     ]
    },
    {
     "name": "stdout",
     "output_type": "stream",
     "text": [
      "FIRE:    1 15:12:32     -181.340408*      96.6008\n",
      "FIRE:    2 15:12:32     -188.431458*      51.0341\n",
      "FIRE:    3 15:12:32     -189.647415*       5.0530\n",
      "FIRE:    4 15:12:32     -189.025314*      38.3522\n",
      "FIRE:    5 15:12:33     -189.307358*      31.2309\n",
      "FIRE:    6 15:12:33     -189.671722*      17.7556\n",
      "FIRE:    7 15:12:33     -189.856201*       3.1567\n",
      "FIRE:    8 15:12:33     -189.775055*      15.3738\n",
      "FIRE:    9 15:12:33     -189.790939*      14.5070\n",
      "FIRE:   10 15:12:33     -189.819687*      12.8315\n",
      "FIRE:   11 15:12:33     -189.856003*      10.4586\n",
      "FIRE:   12 15:12:33     -189.893524*       7.5417\n",
      "FIRE:   13 15:12:33     -189.926361*       4.2685\n",
      "FIRE:   14 15:12:33     -189.950577*       2.9155\n",
      "FIRE:   15 15:12:33     -189.965820*       2.8362\n",
      "FIRE:   16 15:12:34     -189.976242*       5.1841\n",
      "FIRE:   17 15:12:34     -189.977158*       5.1106\n",
      "FIRE:   18 15:12:34     -189.978989*       4.9645\n",
      "FIRE:   19 15:12:34     -189.981644*       4.7485\n",
      "FIRE:   20 15:12:34     -189.985092*       4.4661\n",
      "FIRE:   21 15:12:34     -189.989227*       4.1226\n",
      "FIRE:   22 15:12:34     -189.993958*       3.7245\n",
      "FIRE:   23 15:12:34     -189.999207*       3.2799\n",
      "FIRE:   24 15:12:34     -190.005478*       2.7457\n",
      "FIRE:   25 15:12:34     -190.012878*       2.7087\n",
      "FIRE:   26 15:12:35     -190.021469*       2.6941\n",
      "FIRE:   27 15:12:35     -190.031372*       2.6743\n",
      "FIRE:   28 15:12:35     -190.042816*       2.6478\n",
      "FIRE:   29 15:12:35     -190.056198*       2.6124\n",
      "FIRE:   30 15:12:35     -190.072144*       2.5658\n",
      "FIRE:   31 15:12:35     -190.091476*       2.5057\n",
      "FIRE:   32 15:12:35     -190.114990*       2.4296\n",
      "FIRE:   33 15:12:35     -190.143097*       2.3354\n",
      "FIRE:   34 15:12:35     -190.175598*       2.2213\n",
      "FIRE:   35 15:12:35     -190.211670*       2.0866\n",
      "FIRE:   36 15:12:35     -190.250824*       1.9316\n",
      "FIRE:   37 15:12:36     -190.293610*       1.8501\n",
      "FIRE:   38 15:12:36     -190.340302*       1.5647\n",
      "FIRE:   39 15:12:36     -190.388489*       1.3525\n",
      "FIRE:   40 15:12:36     -190.434357*       1.2614\n",
      "FIRE:   41 15:12:36     -190.477478*       1.3377\n",
      "FIRE:   42 15:12:36     -190.515076*       0.6857\n",
      "FIRE:   43 15:12:36     -190.542282*       1.3668\n",
      "FIRE:   44 15:12:36     -190.560364*       0.6583\n",
      "FIRE:   45 15:12:36     -190.567139*       1.4170\n",
      "FIRE:   46 15:12:36     -190.568558*       1.0647\n",
      "FIRE:   47 15:12:36     -190.570847*       0.8340\n",
      "FIRE:   48 15:12:36     -190.573517*       0.8014\n",
      "FIRE:   49 15:12:37     -190.576538*       0.7826\n",
      "FIRE:   50 15:12:37     -190.580292*       0.9529\n",
      "FIRE:   51 15:12:37     -190.584900*       0.7980\n",
      "FIRE:   52 15:12:37     -190.589996*       0.6077\n",
      "FIRE:   53 15:12:37     -190.595657*       0.5409\n",
      "FIRE:   54 15:12:37     -190.601852*       0.7929\n",
      "FIRE:   55 15:12:37     -190.609085*       0.6564\n",
      "FIRE:   56 15:12:37     -190.616974*       0.3803\n",
      "FIRE:   57 15:12:37     -190.624756*       0.6656\n",
      "FIRE:   58 15:12:37     -190.632980*       0.3499\n",
      "FIRE:   59 15:12:37     -190.640747*       0.6661\n",
      "FIRE:   60 15:12:38     -190.648621*       0.3273\n",
      "FIRE:   61 15:12:38     -190.656113*       0.8515\n",
      "FIRE:   62 15:12:38     -190.664642*       0.3345\n",
      "FIRE:   63 15:12:38     -190.673843*       0.4768\n",
      "FIRE:   64 15:12:38     -190.683670*       1.1790\n",
      "FIRE:   65 15:12:38     -190.693268*       1.8485\n",
      "FIRE:   66 15:12:38     -190.695587*       0.4513\n",
      "FIRE:   67 15:12:38     -190.695633*       1.2318\n",
      "FIRE:   68 15:12:38     -190.696014*       1.0090\n",
      "FIRE:   69 15:12:38     -190.696579*       0.6041\n",
      "FIRE:   70 15:12:38     -190.697052*       0.2502\n",
      "FIRE:   71 15:12:38     -190.697327*       0.3880\n",
      "FIRE:   72 15:12:39     -190.697571*       0.7088\n",
      "FIRE:   73 15:12:39     -190.697998*       0.8129\n",
      "FIRE:   74 15:12:39     -190.698639*       0.7013\n",
      "FIRE:   75 15:12:39     -190.699509*       0.3706\n",
      "FIRE:   76 15:12:39     -190.700363*       0.2268\n",
      "FIRE:   77 15:12:39     -190.701141*       0.5390\n",
      "FIRE:   78 15:12:39     -190.702133*       0.6409\n",
      "FIRE:   79 15:12:39     -190.703506*       0.3131\n",
      "FIRE:   80 15:12:40     -190.704834*       0.3061\n",
      "FIRE:   81 15:12:40     -190.706192*       0.5611\n",
      "FIRE:   82 15:12:40     -190.707977*       0.1652\n",
      "FIRE:   83 15:12:40     -190.709595*       0.5395\n",
      "FIRE:   84 15:12:40     -190.711655*       0.2361\n",
      "FIRE:   85 15:12:40     -190.713608*       0.6661\n",
      "FIRE:   86 15:12:40     -190.716309*       0.1495\n",
      "FIRE:   87 15:12:40     -190.719055*       0.5651\n",
      "FIRE:   88 15:12:40     -190.722122*       0.9481\n",
      "FIRE:   89 15:12:40     -190.725540*       1.2047\n",
      "FIRE:   90 15:12:40     -190.726501*       0.2344\n",
      "FIRE:   91 15:12:40     -190.726303*       0.9098\n",
      "FIRE:   92 15:12:41     -190.726501*       0.7271\n",
      "FIRE:   93 15:12:41     -190.726776*       0.3996\n",
      "FIRE:   94 15:12:41     -190.726944*       0.1152\n",
      "FIRE:   95 15:12:41     -190.726990*       0.3586\n",
      "FIRE:   96 15:12:41     -190.727005*       0.3403\n",
      "FIRE:   97 15:12:41     -190.727036*       0.3045\n",
      "FIRE:   98 15:12:41     -190.727066*       0.2533\n",
      "FIRE:   99 15:12:41     -190.727112*       0.1895\n",
      "FIRE:  100 15:12:41     -190.727158*       0.1214\n",
      "FIRE:  101 15:12:41     -190.727203*       0.1119\n",
      "FIRE:  102 15:12:42     -190.727249*       0.1089\n",
      "FIRE:  103 15:12:42     -190.727310*       0.1087\n",
      "FIRE:  104 15:12:42     -190.727386*       0.1568\n",
      "FIRE:  105 15:12:42     -190.727478*       0.1901\n",
      "FIRE:  106 15:12:42     -190.727585*       0.1909\n",
      "FIRE:  107 15:12:42     -190.727722*       0.1526\n",
      "FIRE:  108 15:12:42     -190.727905*       0.1071\n",
      "FIRE:  109 15:12:42     -190.728104*       0.1064\n",
      "FIRE:  110 15:12:42     -190.728348*       0.1129\n",
      "FIRE:  111 15:12:43     -190.728638*       0.1420\n",
      "FIRE:  112 15:12:43     -190.728989*       0.1039\n",
      "FIRE:  113 15:12:43     -190.729416*       0.1028\n",
      "FIRE:  114 15:12:43     -190.729904*       0.1271\n",
      "FIRE:  115 15:12:43     -190.730484*       0.0999\n",
      "CPU times: user 33.1 s, sys: 1min 14s, total: 1min 47s\n",
      "Wall time: 15.1 s\n"
     ]
    }
   ],
   "source": [
    "relaxer = Relaxer()\n",
    "%time  relax_results = relaxer.relax(lfp_strained)\n",
    "relaxed = relax_results['final_structure']"
   ]
  },
  {
   "cell_type": "markdown",
   "id": "a9ede3fc",
   "metadata": {},
   "source": [
    "Note that the relaxation only took < 20s."
   ]
  },
  {
   "cell_type": "code",
   "execution_count": 4,
   "id": "2abb1e07",
   "metadata": {},
   "outputs": [
    {
     "name": "stdout",
     "output_type": "stream",
     "text": [
      "Original lattice parameters are (4.746441000202679, 10.443730003189714, 6.090226001838521)\n",
      "Strained lattice parameters are (4.750053179813627, 10.356606838609148, 5.997110481663704)\n",
      "Relaxed lattice parameters are (4.747618545215528, 10.481805968108853, 6.107802122731116)\n"
     ]
    }
   ],
   "source": [
    "print(f\"Original lattice parameters are {lfp.lattice.abc}\")\n",
    "print(f\"Strained lattice parameters are {lfp_strained.lattice.abc}\")\n",
    "print(f\"Relaxed lattice parameters are {relaxed.lattice.abc}\")"
   ]
  },
  {
   "cell_type": "code",
   "execution_count": 5,
   "id": "7b2ddfd6",
   "metadata": {},
   "outputs": [
    {
     "name": "stdout",
     "output_type": "stream",
     "text": [
      "Diff in fractional coords:\n",
      "[[-3.92604728e-03  4.07413997e-03  5.80356625e-03]\n",
      " [ 1.43250511e-02  3.27431932e-03  4.42699735e-03]\n",
      " [-3.52458018e-03 -3.08654170e-03  1.07293845e-02]\n",
      " [-4.26860840e-03  4.58356758e-03 -2.96369922e-03]\n",
      " [-5.55072174e-03  1.54835105e-03  2.47354774e-03]\n",
      " [ 3.80921860e-03  4.32305748e-03  5.12550707e-03]\n",
      " [ 3.53915883e-03 -8.38400924e-04  9.06917571e-03]\n",
      " [ 2.47973569e-03 -8.64836750e-04  3.59526770e-03]\n",
      " [-7.26667302e-05 -1.35534223e-03 -2.53138511e-03]\n",
      " [ 1.14946368e-03 -4.82260909e-05  7.54579410e-03]\n",
      " [ 4.24883341e-03  6.67052939e-04  3.70532881e-03]\n",
      " [ 9.17448738e-04  3.24917845e-03  3.69315336e-04]\n",
      " [ 5.82139415e-04 -3.18889133e-03 -3.03101342e-03]\n",
      " [ 2.23741485e-03  2.38577303e-03 -3.57929180e-04]\n",
      " [ 3.79457349e-03 -3.22175818e-04  1.67082825e-03]\n",
      " [ 2.20562748e-04  5.94968752e-03 -1.96480681e-03]\n",
      " [ 5.03072366e-03  5.13620895e-04 -6.28382551e-04]\n",
      " [ 5.79797481e-03  3.02933989e-03 -2.87900284e-03]\n",
      " [-5.31171473e-03 -6.63377559e-04  2.84482729e-03]\n",
      " [-2.25493932e-04  2.51091086e-05  1.09263063e-02]\n",
      " [-6.38000214e-04 -2.42169480e-03 -4.34413563e-03]\n",
      " [ 8.37377953e-03 -2.47021565e-03  8.68791120e-03]\n",
      " [-1.95083290e-03 -4.47534529e-04  7.58124443e-03]\n",
      " [ 4.07845373e-03  2.81597502e-03 -4.31561765e-03]\n",
      " [ 1.34242194e-03 -1.40126703e-03  7.71843519e-03]\n",
      " [ 3.04241735e-04  2.76705060e-04  2.43693781e-03]\n",
      " [-3.16574374e-03  3.20719941e-03  3.18210886e-03]\n",
      " [ 3.91850131e-03  4.19336033e-03  5.22481774e-03]]\n"
     ]
    }
   ],
   "source": [
    "print(f\"Diff in fractional coords:\\n{pbc_diff(lfp.frac_coords, relaxed.frac_coords)}\")"
   ]
  },
  {
   "cell_type": "markdown",
   "id": "d1b355f7",
   "metadata": {},
   "source": [
    "Quite clealy, the relaxation using the M3GNet universal IAP has brought the lattice parameters much closer to the original DFT one and the coordinates are also within $10^{-3}$ of the original fractional coordinates."
   ]
  },
  {
   "cell_type": "code",
   "execution_count": null,
   "id": "770d7aa2",
   "metadata": {},
   "outputs": [],
   "source": []
  }
 ],
 "metadata": {
  "kernelspec": {
   "display_name": "Python 3 (ipykernel)",
   "language": "python",
   "name": "python3"
  },
  "language_info": {
   "codemirror_mode": {
    "name": "ipython",
    "version": 3
   },
   "file_extension": ".py",
   "mimetype": "text/x-python",
   "name": "python",
   "nbconvert_exporter": "python",
   "pygments_lexer": "ipython3",
   "version": "3.9.12"
  }
 },
 "nbformat": 4,
 "nbformat_minor": 5
}
